{
 "cells": [
  {
   "cell_type": "markdown",
   "metadata": {},
   "source": [
    "# Import and configuration"
   ]
  },
  {
   "cell_type": "code",
   "execution_count": 1,
   "metadata": {
    "collapsed": false
   },
   "outputs": [
    {
     "name": "stdout",
     "output_type": "stream",
     "text": [
      "[INFO] init: Writing logs to file: /hmi/kme/workspace/jcmpython/zib_presentation/logs/160831.log\n",
      "[INFO] init: Imported jcmwave from: /hmi/kme/programs/JCMsuite_3_0_9\n"
     ]
    }
   ],
   "source": [
    "import numpy as np\n",
    "import os\n",
    "import sys\n",
    "sys.path.append('..')\n",
    "\n",
    "if 'JCMPYTHON_CONFIG_FILE' in os.environ:\n",
    "    del os.environ['JCMPYTHON_CONFIG_FILE']\n",
    "import jcmpython as jpy"
   ]
  },
  {
   "cell_type": "markdown",
   "metadata": {},
   "source": [
    "**jcmpython detected a configuration file:** "
   ]
  },
  {
   "cell_type": "code",
   "execution_count": 2,
   "metadata": {
    "collapsed": false
   },
   "outputs": [
    {
     "name": "stdout",
     "output_type": "stream",
     "text": [
      "[User]\n",
      "email = carlo.barth@helmholtz-berlin.de\n",
      "\n",
      "[Preferences]\n",
      "colormap = viridis\n",
      "\n",
      "[Storage]\n",
      "base = /net/group/kme-data/simulations\n",
      "\n",
      "[Data]\n",
      "projects = /hmi/kme/workspace/jcmpython/projects\n",
      "refractiveIndexDatabase = /hmi/kme/workspace/RefractiveIndex/database\n",
      "...\n"
     ]
    }
   ],
   "source": [
    "with open(jpy._config.config_file, 'r') as f:\n",
    "    content = ''.join(f.readlines()[0:12])\n",
    "print content+'...'"
   ]
  },
  {
   "cell_type": "markdown",
   "metadata": {},
   "source": [
    "**We can print license or version info...**"
   ]
  },
  {
   "cell_type": "code",
   "execution_count": 3,
   "metadata": {
    "collapsed": false
   },
   "outputs": [
    {
     "name": "stdout",
     "output_type": "stream",
     "text": [
      "[INFO] init: \n",
      "[INFO] init: JCMwave(R) FEM-Solver , Version 3.0.9-release\n",
      "[INFO] init: Modules: Electromagnetics ElectromagneticsTimeDependent ContinuumMechanics HeatConduction\n",
      "[INFO] init: Buildtag: linux64-2016.06.24.09.46\n",
      "[INFO] init: \n",
      "[INFO] init: *** license status ***\n",
      "[INFO] init: \n",
      "[INFO] init:   JCMROOT: /hmi/kme/programs/JCMsuite_3_0_9\n",
      "[INFO] init:   Host: nanosippe03\n",
      "[INFO] init:   License File: /hmi/kme/programs/JCMsuite_3_0_9/license/license.ljcm\n",
      "[INFO] init:   Server: nanosippe03\n",
      "[INFO] init:   HW-Adapter: F8-B1-56-D8-95-11\n",
      "[INFO] init:   Licensed OS: LINUX\n",
      "[INFO] init:   License period: 2015-06-08 -> 2016-12-31 \n",
      "[INFO] init:   Number of licenses: 12\n",
      "[INFO] init: \n"
     ]
    }
   ],
   "source": [
    "jpy.jcm_license_info()"
   ]
  },
  {
   "cell_type": "markdown",
   "metadata": {},
   "source": [
    "**... but they are also stored in module attributes**"
   ]
  },
  {
   "cell_type": "code",
   "execution_count": 4,
   "metadata": {
    "collapsed": false
   },
   "outputs": [
    {
     "name": "stdout",
     "output_type": "stream",
     "text": [
      "Version of JCMsuite: 3.0.9\n",
      "Version of jcmpython: 2.1.2\n"
     ]
    }
   ],
   "source": [
    "print 'Version of JCMsuite:', jpy.__jcm_version__\n",
    "print 'Version of jcmpython:', jpy.__version__"
   ]
  },
  {
   "cell_type": "markdown",
   "metadata": {},
   "source": [
    "## Extensions"
   ]
  },
  {
   "cell_type": "code",
   "execution_count": 5,
   "metadata": {
    "collapsed": false
   },
   "outputs": [
    {
     "name": "stdout",
     "output_type": "stream",
     "text": [
      "Known extensions: ['materials']\n"
     ]
    }
   ],
   "source": [
    "print 'Known extensions:', jpy.extensions"
   ]
  },
  {
   "cell_type": "code",
   "execution_count": 6,
   "metadata": {
    "collapsed": false
   },
   "outputs": [
    {
     "name": "stdout",
     "output_type": "stream",
     "text": [
      "Help on function load_extension in module jcmpython:\n",
      "\n",
      "load_extension(ext_name)\n",
      "    Loads the specified extension of jcmpython.\n",
      "    \n",
      "    See `jcmpython.extensions` for a list of extensions.\n",
      "\n"
     ]
    }
   ],
   "source": [
    "help(jpy.load_extension)"
   ]
  },
  {
   "cell_type": "markdown",
   "metadata": {},
   "source": [
    "# Project management"
   ]
  },
  {
   "cell_type": "markdown",
   "metadata": {},
   "source": [
    "**We specify the path to our project - absolute or relative to the configured project base**"
   ]
  },
  {
   "cell_type": "code",
   "execution_count": 7,
   "metadata": {
    "collapsed": false
   },
   "outputs": [],
   "source": [
    "project = jpy.JCMProject('scattering/mie/mie2D')"
   ]
  },
  {
   "cell_type": "markdown",
   "metadata": {},
   "source": [
    "**The project (.jcmp[t]) file is detected automatically, or can be specified**"
   ]
  },
  {
   "cell_type": "code",
   "execution_count": 8,
   "metadata": {
    "collapsed": false
   },
   "outputs": [
    {
     "data": {
      "text/plain": [
       "'mie2D.jcmp'"
      ]
     },
     "execution_count": 8,
     "metadata": {},
     "output_type": "execute_result"
    }
   ],
   "source": [
    "project.project_file_name"
   ]
  },
  {
   "cell_type": "markdown",
   "metadata": {},
   "source": [
    "# Simulation sets"
   ]
  },
  {
   "cell_type": "markdown",
   "metadata": {},
   "source": [
    "**We distinguish three types of input parameters:**\n",
    "  - **`constants`**: can be of any type, but *not stored*\n",
    "  - **`parameters`**: parameters that *do not* change the geometry\n",
    "  - **`geometry`**: parameters that *do* change the geometry, i.e. belong to the `layout.jcmt`"
   ]
  },
  {
   "cell_type": "markdown",
   "metadata": {},
   "source": [
    "**Let's specify 40 different radii**"
   ]
  },
  {
   "cell_type": "code",
   "execution_count": 9,
   "metadata": {
    "collapsed": true
   },
   "outputs": [],
   "source": [
    "mie_keys = {'constants' :{},\n",
    "            'parameters': {},\n",
    "            'geometry': {'radius':np.linspace(0.3, 0.5, 40)}}"
   ]
  },
  {
   "cell_type": "markdown",
   "metadata": {},
   "source": [
    "**We initialized a `SimulationSet`**"
   ]
  },
  {
   "cell_type": "code",
   "execution_count": 10,
   "metadata": {
    "collapsed": false
   },
   "outputs": [
    {
     "name": "stdout",
     "output_type": "stream",
     "text": [
      "[INFO] core.SimulationSet: Using folder /hmi/kme/workspace/jcmpython/zib_presentation/mie2D_test for data storage.\n"
     ]
    }
   ],
   "source": [
    "simuset = jpy.SimulationSet(project, mie_keys,\n",
    "                            storage_folder='mie2D_test',\n",
    "                            storage_base=os.getcwd())"
   ]
  },
  {
   "cell_type": "markdown",
   "metadata": {},
   "source": [
    "**The `storage_dir` now contains an `.h5` database file**"
   ]
  },
  {
   "cell_type": "code",
   "execution_count": 11,
   "metadata": {
    "collapsed": false
   },
   "outputs": [
    {
     "data": {
      "text/plain": [
       "['simulation000000', 'result_database.h5']"
      ]
     },
     "execution_count": 11,
     "metadata": {},
     "output_type": "execute_result"
    }
   ],
   "source": [
    "os.listdir(simuset.storage_dir)"
   ]
  },
  {
   "cell_type": "markdown",
   "metadata": {},
   "source": [
    "**We make a schedule:**\n",
    "\n",
    "  1. all parameter combinations are determinded,\n",
    "  2. simulations are sorted in a way to have minimal calls of JCMgeo\n",
    "  3. database is checked for matching simulations which already have been done"
   ]
  },
  {
   "cell_type": "code",
   "execution_count": 12,
   "metadata": {
    "collapsed": false
   },
   "outputs": [
    {
     "name": "stdout",
     "output_type": "stream",
     "text": [
      "[INFO] core.SimulationSet: Loops will be done over the following parameter(s): ['radius']\n",
      "[INFO] core.SimulationSet: Total number of simulations: 40\n"
     ]
    }
   ],
   "source": [
    "simuset.make_simulation_schedule()"
   ]
  },
  {
   "cell_type": "markdown",
   "metadata": {},
   "source": [
    "**The store is empty**"
   ]
  },
  {
   "cell_type": "code",
   "execution_count": 13,
   "metadata": {
    "collapsed": false
   },
   "outputs": [
    {
     "data": {
      "text/plain": [
       "True"
      ]
     },
     "execution_count": 13,
     "metadata": {},
     "output_type": "execute_result"
    }
   ],
   "source": [
    "simuset.is_store_empty()"
   ]
  },
  {
   "cell_type": "markdown",
   "metadata": {},
   "source": [
    "## Managing resources"
   ]
  },
  {
   "cell_type": "markdown",
   "metadata": {},
   "source": [
    "**All configured resources are:**"
   ]
  },
  {
   "cell_type": "code",
   "execution_count": 14,
   "metadata": {
    "collapsed": false
   },
   "outputs": [
    {
     "data": {
      "text/plain": [
       "{'dinux6': Workstation(dinux6, M=4, N=2),\n",
       " 'dinux7': Workstation(dinux7, M=16, N=1),\n",
       " 'htc027': Workstation(htc027, M=16, N=1),\n",
       " 'localhost': Workstation(localhost, M=1, N=1)}"
      ]
     },
     "execution_count": 14,
     "metadata": {},
     "output_type": "execute_result"
    }
   ],
   "source": [
    "jpy.resources"
   ]
  },
  {
   "cell_type": "markdown",
   "metadata": {},
   "source": [
    "**We can easily change the multiplicity and the number of threads**"
   ]
  },
  {
   "cell_type": "code",
   "execution_count": 15,
   "metadata": {
    "collapsed": false
   },
   "outputs": [
    {
     "name": "stdout",
     "output_type": "stream",
     "text": [
      "[INFO] core.SimulationSet: Restricting resources to: ['localhost']\n",
      "{'localhost': Workstation(localhost, M=4, N=1)}\n"
     ]
    }
   ],
   "source": [
    "simuset.use_only_resources('localhost')\n",
    "simuset.resources['localhost'].set_m_n(4,1)\n",
    "print simuset.resources"
   ]
  },
  {
   "cell_type": "markdown",
   "metadata": {},
   "source": [
    "## Computing geometries only"
   ]
  },
  {
   "cell_type": "markdown",
   "metadata": {},
   "source": [
    "**The first simulation of our set has the following properties**"
   ]
  },
  {
   "cell_type": "code",
   "execution_count": 16,
   "metadata": {
    "collapsed": false
   },
   "outputs": [
    {
     "name": "stdout",
     "output_type": "stream",
     "text": [
      "Simulation(number=0, status=Pending)\n",
      "keys: {'radius': 0.29999999999999999}\n"
     ]
    }
   ],
   "source": [
    "sim = simuset.simulations[0]\n",
    "print sim\n",
    "print 'keys:', sim.keys"
   ]
  },
  {
   "cell_type": "markdown",
   "metadata": {},
   "source": [
    "**Run jcm.geo**"
   ]
  },
  {
   "cell_type": "code",
   "execution_count": 17,
   "metadata": {
    "collapsed": false
   },
   "outputs": [],
   "source": [
    "simuset.compute_geometry(sim)#, show=float('inf'))"
   ]
  },
  {
   "cell_type": "markdown",
   "metadata": {},
   "source": [
    "The project's working directory now contains a grid file:"
   ]
  },
  {
   "cell_type": "code",
   "execution_count": 18,
   "metadata": {
    "collapsed": false
   },
   "outputs": [
    {
     "data": {
      "text/plain": [
       "True"
      ]
     },
     "execution_count": 18,
     "metadata": {},
     "output_type": "execute_result"
    }
   ],
   "source": [
    "'grid.jcm' in os.listdir(simuset.get_project_wdir())"
   ]
  },
  {
   "cell_type": "markdown",
   "metadata": {},
   "source": [
    "## Running a single simulation"
   ]
  },
  {
   "cell_type": "markdown",
   "metadata": {},
   "source": [
    "**We can solve a single simulation using our simulation set**"
   ]
  },
  {
   "cell_type": "code",
   "execution_count": 19,
   "metadata": {
    "collapsed": false
   },
   "outputs": [
    {
     "name": "stdout",
     "output_type": "stream",
     "text": [
      "[WARNING] py.warnings: /hmi/kme/.local/lib/python2.7/site-packages/jcmpython/parallelization.py:228: RuntimeWarning: Ignoring deprecated argument \"JCMKERNEL\".\n",
      "  **self.kwargs)\n",
      "\n"
     ]
    }
   ],
   "source": [
    "results, logs = simuset.solve_single_simulation(sim)"
   ]
  },
  {
   "cell_type": "markdown",
   "metadata": {},
   "source": [
    "**The results are stored in the simulation instance**"
   ]
  },
  {
   "cell_type": "code",
   "execution_count": 21,
   "metadata": {
    "collapsed": false
   },
   "outputs": [
    {
     "name": "stdout",
     "output_type": "stream",
     "text": [
      "\n",
      "\n",
      "\n",
      "*** Solving /hmi/kme/workspace/jcmpython/zib_presentation/mie2D_test/simulation000000/mie2D.jcmp on refinement level 0 ... \n",
      "\n",
      "  A priori segments/wavelength (quality = 2.00e-02)\n",
      "  FEM degree  'one wavelength'  direction X  direction Y\n",
      "--------------------------------------------------------\n",
      "           1              5.57        33.68        33.68\n",
      "           2              2.65         6.99         6.99\n",
      "           3              1.90         3.57         3.57\n",
      "           4              1.34         2.11         2.11\n",
      "           5              1.04         1.47         1.47\n",
      "           6              0.85         1.11         1.11\n",
      "           7              0.72         0.88         0.88\n",
      "           8              0.61         0.73         0.73\n",
      "           9              0.53         0.62         0.62\n",
      "          10              0.47         0.54         0.54\n",
      "  minimum seg/wavelength in grid : 2.75\n",
      "  maximum seg/wavelength in grid : 37.35\n",
      "\n",
      "  *** A priori interior domain wave propagation characteristics (vacuum wavelength = 550.000 nm):\n",
      "  \n",
      "       Compartment \"X\":\n",
      "    computational domain size:  7.3 (wavelengths).\n",
      "    computational domain range wave propagation error: 0.0025\n",
      "    'one wavelength' wave propagation error: 0.0009 \n",
      "  \n",
      "       Compartment \"-X\":\n",
      "    computational domain size:  7.3 (wavelengths).\n",
      "    computational domain range wave propagation error: 0.0024\n",
      "    'one wavelength' wave propagation error: 0.00086 \n",
      "  \n",
      "       Compartment \"Y\":\n",
      "    computational domain size:  7.3 (wavelengths).\n",
      "    computational domain range wave propagation error: 0.0025\n",
      "    'one wavelength' wave propagation error: 0.0009 \n",
      "  \n",
      "       Compartment \"-Y\":\n",
      "    computational domain size:  7.3 (wavelengths).\n",
      "    computational domain range wave propagation error: 0.0025\n",
      "    'one wavelength' wave propagation error: 0.0009 \n",
      "\n",
      "Cell percentage per Finite Element degree\n",
      "  FEM degree  Cell percentage\n",
      "-----------------------------------------\n",
      "           2             11.0\n",
      "           3             28.4\n",
      "           4             60.7\n",
      "\n",
      "assembling problem (22125 unknowns) ...  \n",
      "assembling problem done: 00:00:00.22 (cpu), 00:00:01 (total) (matrix entries/row = 20)\n",
      "solving discrete problem ... progress[remaining time]: 25%[<1min], 50%[<1min], 75%[<1min], 100%[finished]\n",
      "solving discrete problem done: 00:00:00.14 (cpu), 00:00:00 (total), 23.70MB (mem)\n",
      "  *** A posteriori exterior domain quality check:\n",
      "       Compartment  \"X\": 0.14 (0 angle refinements in 0 steps)\n",
      "       Compartment \"-X\": 0.022 (0 angle refinements in 0 steps)\n",
      "       Compartment  \"Y\": 0.032 (0 angle refinements in 0 steps)\n",
      "       Compartment \"-Y\": 0.032 (0 angle refinements in 0 steps)\n",
      "updating inner nodes ...\n",
      "updating inner nodes done: 00:00:00.10 (cpu), 00:00:00 (total)\n",
      "\n",
      "\n",
      "                              computational costs\n",
      "  level  unknowns  cpu time  cpu/unknowns  system memory  total time  total memory\n",
      "----------------------------------------------------------------------------------\n",
      "      0     22125  00:00:01      4.52e-05        23.70MB    00:00:01      354.70MB\n",
      "\n",
      "*** Maximum number of refinement steps reached. *** \n",
      "\n",
      "post process FluxIntegration (output file: 'energyflux_scattered.jcm') ... done: 00:00:00.03 (cpu), 00:00:00 (total)\n",
      "\n"
     ]
    }
   ],
   "source": [
    "print sim.logs['Out']"
   ]
  },
  {
   "cell_type": "code",
   "execution_count": 25,
   "metadata": {
    "collapsed": false
   },
   "outputs": [
    {
     "name": "stdout",
     "output_type": "stream",
     "text": [
      "Exit code: 0\n",
      "Resource ID: 0\n",
      "Fieldbag file: /hmi/kme/workspace/jcmpython/zib_presentation/mie2D_test/simulation000000/mie2D_results/fieldbag.jcm\n"
     ]
    }
   ],
   "source": [
    "print 'Exit code:', sim.exit_code\n",
    "print 'Resource ID:', sim.resource_id\n",
    "print 'Fieldbag file:', sim.fieldbag_file"
   ]
  },
  {
   "cell_type": "markdown",
   "metadata": {},
   "source": [
    "## Result processing"
   ]
  },
  {
   "cell_type": "markdown",
   "metadata": {},
   "source": [
    "**The default processing only extracts the computational costs**"
   ]
  },
  {
   "cell_type": "code",
   "execution_count": 26,
   "metadata": {
    "collapsed": false
   },
   "outputs": [],
   "source": [
    "sim.process_results()"
   ]
  },
  {
   "cell_type": "markdown",
   "metadata": {},
   "source": [
    "**The internal results dict now contains these results**"
   ]
  },
  {
   "cell_type": "code",
   "execution_count": 27,
   "metadata": {
    "collapsed": false
   },
   "outputs": [
    {
     "data": {
      "text/plain": [
       "{'AccumulatedCPUTime': 1.33931,\n",
       " 'AccumulatedTotalTime': 1.0,\n",
       " 'CpuPerUnknown': 4.519774011299435e-05,\n",
       " 'CpuTime': 1.0,\n",
       " 'CpuTimeAssembling': 0.221724,\n",
       " 'CpuTimeInnerNodeUpdate': 0.106681,\n",
       " 'CpuTimeSolve': 0.140904,\n",
       " 'FEDegree0_Percentage': 0.0,\n",
       " 'FEDegree10_Percentage': 0.0,\n",
       " 'FEDegree1_Percentage': 0.0,\n",
       " 'FEDegree2_Percentage': 10.96666666666667,\n",
       " 'FEDegree3_Percentage': 28.350000000000001,\n",
       " 'FEDegree4_Percentage': 60.68333333333333,\n",
       " 'FEDegree5_Percentage': 0.0,\n",
       " 'FEDegree6_Percentage': 0.0,\n",
       " 'FEDegree7_Percentage': 0.0,\n",
       " 'FEDegree8_Percentage': 0.0,\n",
       " 'FEDegree9_Percentage': 0.0,\n",
       " 'Level': 0,\n",
       " 'SystemMemory_GB': 0.0231475830078125,\n",
       " 'TotalMemory_GB': 0.3463897705078125,\n",
       " 'TotalTime': 1,\n",
       " 'TotalTimeAssembling': 1.0,\n",
       " 'TotalTimeInnerNodeUpdate': 0.0,\n",
       " 'TotalTimeSolve': 0.0,\n",
       " 'Unknowns': 22125}"
      ]
     },
     "execution_count": 27,
     "metadata": {},
     "output_type": "execute_result"
    }
   ],
   "source": [
    "sim._results_dict"
   ]
  },
  {
   "cell_type": "markdown",
   "metadata": {},
   "source": [
    "**The status is updated**"
   ]
  },
  {
   "cell_type": "code",
   "execution_count": 28,
   "metadata": {
    "collapsed": false
   },
   "outputs": [
    {
     "data": {
      "text/plain": [
       "'Finished and processed'"
      ]
     },
     "execution_count": 28,
     "metadata": {},
     "output_type": "execute_result"
    }
   ],
   "source": [
    "sim.status"
   ]
  },
  {
   "cell_type": "markdown",
   "metadata": {},
   "source": [
    "**All post-processing results are stored as well**"
   ]
  },
  {
   "cell_type": "code",
   "execution_count": 29,
   "metadata": {
    "collapsed": false
   },
   "outputs": [
    {
     "data": {
      "text/plain": [
       "[{'AbsElectromagneticFieldEnergyFlux': {0: array([  3.28057130e-09])},\n",
       "  'DomainIdFirst': array([1], dtype=int32),\n",
       "  'DomainIdSecond': array([1], dtype=int32),\n",
       "  'ElectromagneticFieldEnergyFlux': {0: array([  3.27832759e-09 -1.14326522e-11j])},\n",
       "  'title': 'ElectromagneticFieldEnergyFlux'}]"
      ]
     },
     "execution_count": 29,
     "metadata": {},
     "output_type": "execute_result"
    }
   ],
   "source": [
    "sim.jcm_results[1:]"
   ]
  },
  {
   "cell_type": "markdown",
   "metadata": {},
   "source": [
    "**We can process the post processing results using a custom function**"
   ]
  },
  {
   "cell_type": "code",
   "execution_count": 30,
   "metadata": {
    "collapsed": true
   },
   "outputs": [],
   "source": [
    "def read_scs(pp):\n",
    "    results = {} #must be a dict\n",
    "    results['SCS'] = pp[0]['ElectromagneticFieldEnergyFlux'][0][0].real\n",
    "    return results"
   ]
  },
  {
   "cell_type": "code",
   "execution_count": 31,
   "metadata": {
    "collapsed": false
   },
   "outputs": [],
   "source": [
    "sim.process_results(processing_func=read_scs, overwrite=True)"
   ]
  },
  {
   "cell_type": "markdown",
   "metadata": {},
   "source": [
    "**'SCS' is now in the `_results_dict`:**"
   ]
  },
  {
   "cell_type": "code",
   "execution_count": 32,
   "metadata": {
    "collapsed": false
   },
   "outputs": [
    {
     "data": {
      "text/plain": [
       "{'AccumulatedCPUTime': 1.33931,\n",
       " 'AccumulatedTotalTime': 1.0,\n",
       " 'CpuPerUnknown': 4.519774011299435e-05,\n",
       " 'CpuTime': 1.0,\n",
       " 'CpuTimeAssembling': 0.221724,\n",
       " 'CpuTimeInnerNodeUpdate': 0.106681,\n",
       " 'CpuTimeSolve': 0.140904,\n",
       " 'FEDegree0_Percentage': 0.0,\n",
       " 'FEDegree10_Percentage': 0.0,\n",
       " 'FEDegree1_Percentage': 0.0,\n",
       " 'FEDegree2_Percentage': 10.96666666666667,\n",
       " 'FEDegree3_Percentage': 28.350000000000001,\n",
       " 'FEDegree4_Percentage': 60.68333333333333,\n",
       " 'FEDegree5_Percentage': 0.0,\n",
       " 'FEDegree6_Percentage': 0.0,\n",
       " 'FEDegree7_Percentage': 0.0,\n",
       " 'FEDegree8_Percentage': 0.0,\n",
       " 'FEDegree9_Percentage': 0.0,\n",
       " 'Level': 0,\n",
       " 'SCS': 3.2783275920030418e-09,\n",
       " 'SystemMemory_GB': 0.0231475830078125,\n",
       " 'TotalMemory_GB': 0.3463897705078125,\n",
       " 'TotalTime': 1,\n",
       " 'TotalTimeAssembling': 1.0,\n",
       " 'TotalTimeInnerNodeUpdate': 0.0,\n",
       " 'TotalTimeSolve': 0.0,\n",
       " 'Unknowns': 22125}"
      ]
     },
     "execution_count": 32,
     "metadata": {},
     "output_type": "execute_result"
    }
   ],
   "source": [
    "sim._results_dict"
   ]
  },
  {
   "cell_type": "markdown",
   "metadata": {},
   "source": [
    "## Running all simulations"
   ]
  },
  {
   "cell_type": "markdown",
   "metadata": {},
   "source": [
    "**We can run and process all simulations in parallel using the simulation set**"
   ]
  },
  {
   "cell_type": "code",
   "execution_count": 33,
   "metadata": {
    "collapsed": false
   },
   "outputs": [
    {
     "name": "stdout",
     "output_type": "stream",
     "text": [
      "[INFO] core.SimulationSet: Starting to solve.\n",
      "[INFO] core.SimulationSet: Waiting for 10 simulation(s) to finish (40 remaining in total).\n",
      "[INFO] core.SimulationSet: Approx. remaining time: 0:00:16.820214\n",
      "[INFO] core.SimulationSet: Waiting for 10 simulation(s) to finish (30 remaining in total).\n",
      "[INFO] core.SimulationSet: Approx. remaining time: 0:00:11.865243\n",
      "[INFO] core.SimulationSet: Waiting for 10 simulation(s) to finish (20 remaining in total).\n",
      "[INFO] core.SimulationSet: Approx. remaining time: 0:00:05.756581\n",
      "[INFO] core.SimulationSet: Waiting for 10 simulation(s) to finish (10 remaining in total).\n",
      "[INFO] core.SimulationSet: Total time for all simulations: 0:00:23.175366\n"
     ]
    }
   ],
   "source": [
    "simuset.run(N=10, processing_func=read_scs)"
   ]
  },
  {
   "cell_type": "markdown",
   "metadata": {},
   "source": [
    "**The results can easily be plotted**"
   ]
  },
  {
   "cell_type": "code",
   "execution_count": 35,
   "metadata": {
    "collapsed": false
   },
   "outputs": [
    {
     "data": {
      "image/png": "[encoded data removed]",
      "text/plain": [
       "<matplotlib.figure.Figure at 0x5192d10>"
      ]
     },
     "metadata": {},
     "output_type": "display_data"
    }
   ],
   "source": [
    "%matplotlib inline\n",
    "import matplotlib.pyplot as plt\n",
    "import seaborn as sns\n",
    "sns.set_context('notebook', font_scale=1.5)\n",
    "\n",
    "data = simuset.get_store_data().sort_values(by='radius')\n",
    "data.plot(x='radius', y='SCS', title='Results of the simulation')\n",
    "plt.show()"
   ]
  },
  {
   "cell_type": "markdown",
   "metadata": {},
   "source": [
    "## Adding data in a later run"
   ]
  },
  {
   "cell_type": "markdown",
   "metadata": {},
   "source": [
    "**If the simulations failed or additional data needs to be added, the simulation set notices the existing data**"
   ]
  },
  {
   "cell_type": "code",
   "execution_count": 36,
   "metadata": {
    "collapsed": true
   },
   "outputs": [],
   "source": [
    "extended_radii = np.append(np.linspace(0.5, 0.6, 40)[1:], np.linspace(0.3, 0.5, 40))\n",
    "mie_keys_extended = {'constants' :{},\n",
    "                     'parameters': {},\n",
    "                     'geometry': {'radius':extended_radii}}"
   ]
  },
  {
   "cell_type": "markdown",
   "metadata": {},
   "source": [
    "**Clean up ...**"
   ]
  },
  {
   "cell_type": "code",
   "execution_count": 37,
   "metadata": {
    "collapsed": false
   },
   "outputs": [],
   "source": [
    "simuset.close_store()\n",
    "del simuset"
   ]
  },
  {
   "cell_type": "markdown",
   "metadata": {},
   "source": [
    "**Schedule ...**"
   ]
  },
  {
   "cell_type": "code",
   "execution_count": 38,
   "metadata": {
    "collapsed": false
   },
   "outputs": [
    {
     "name": "stdout",
     "output_type": "stream",
     "text": [
      "[INFO] core.SimulationSet: Using folder /hmi/kme/workspace/jcmpython/zib_presentation/mie2D_test for data storage.\n",
      "[INFO] core.SimulationSet: Loops will be done over the following parameter(s): ['radius']\n",
      "[INFO] core.SimulationSet: Total number of simulations: 79\n",
      "[INFO] core.SimulationSet: Running extended check ...\n",
      "[INFO] core.SimulationSet: Found matches in the extended check of the HDF5 store. Number of stored simulations: 40\n"
     ]
    }
   ],
   "source": [
    "simuset = jpy.SimulationSet(project, mie_keys_extended,\n",
    "                            storage_folder='mie2D_test',\n",
    "                            storage_base=os.getcwd())\n",
    "simuset.make_simulation_schedule()"
   ]
  },
  {
   "cell_type": "markdown",
   "metadata": {},
   "source": [
    "**Run the 39 remaining simulations and zip all working directories**"
   ]
  },
  {
   "cell_type": "code",
   "execution_count": 39,
   "metadata": {
    "collapsed": false
   },
   "outputs": [
    {
     "name": "stdout",
     "output_type": "stream",
     "text": [
      "[INFO] core.SimulationSet: Starting to solve.\n",
      "[INFO] core.SimulationSet: Waiting for 10 simulation(s) to finish (39 remaining in total).\n",
      "[INFO] core.SimulationSet: Approx. remaining time: 0:00:16.172064\n",
      "[INFO] core.SimulationSet: Waiting for 10 simulation(s) to finish (29 remaining in total).\n",
      "[INFO] core.SimulationSet: Approx. remaining time: 0:00:10.434767\n",
      "[INFO] core.SimulationSet: Waiting for 10 simulation(s) to finish (19 remaining in total).\n",
      "[INFO] core.SimulationSet: Approx. remaining time: 0:00:04.989826\n",
      "[INFO] core.SimulationSet: Waiting for 9 simulation(s) to finish (9 remaining in total).\n",
      "[INFO] core.SimulationSet: Treating old working directories with mode: zip\n",
      "[INFO] core.SimulationSet: Total time for all simulations: 0:00:22.398345\n"
     ]
    }
   ],
   "source": [
    "simuset.run(N=10, processing_func=read_scs, wdir_mode='zip')"
   ]
  },
  {
   "cell_type": "markdown",
   "metadata": {},
   "source": [
    "**The storage folder contains the HDF5 store and a zip-archive**"
   ]
  },
  {
   "cell_type": "code",
   "execution_count": 40,
   "metadata": {
    "collapsed": false
   },
   "outputs": [
    {
     "data": {
      "text/plain": [
       "['result_database.h5', 'working_directories.zip']"
      ]
     },
     "execution_count": 40,
     "metadata": {},
     "output_type": "execute_result"
    }
   ],
   "source": [
    "os.listdir(simuset.storage_dir)"
   ]
  },
  {
   "cell_type": "markdown",
   "metadata": {},
   "source": [
    "**Let's plot again**"
   ]
  },
  {
   "cell_type": "code",
   "execution_count": 41,
   "metadata": {
    "collapsed": false
   },
   "outputs": [
    {
     "data": {
      "text/plain": [
       "<matplotlib.axes._subplots.AxesSubplot at 0x72f4850>"
      ]
     },
     "execution_count": 41,
     "metadata": {},
     "output_type": "execute_result"
    },
    {
     "data": {
      "image/png": "[encoded data removed]",
      "text/plain": [
       "<matplotlib.figure.Figure at 0x4dc8a10>"
      ]
     },
     "metadata": {},
     "output_type": "display_data"
    }
   ],
   "source": [
    "simuset.get_store_data().sort_values(by='radius').plot(x='radius', y='SCS', title='Results of the simulation')"
   ]
  },
  {
   "cell_type": "markdown",
   "metadata": {},
   "source": [
    "**And write our data to a CSV**"
   ]
  },
  {
   "cell_type": "code",
   "execution_count": 42,
   "metadata": {
    "collapsed": false
   },
   "outputs": [],
   "source": [
    "simuset.write_store_data_to_file()"
   ]
  }
 ],
 "metadata": {
  "kernelspec": {
   "display_name": "Python 2",
   "language": "python",
   "name": "python2"
  },
  "language_info": {
   "codemirror_mode": {
    "name": "ipython",
    "version": 2
   },
   "file_extension": ".py",
   "mimetype": "text/x-python",
   "name": "python",
   "nbconvert_exporter": "python",
   "pygments_lexer": "ipython2",
   "version": "2.7.6"
  }
 },
 "nbformat": 4,
 "nbformat_minor": 0
}
