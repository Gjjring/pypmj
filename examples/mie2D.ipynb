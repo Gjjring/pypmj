{
 "cells": [
  {
   "cell_type": "markdown",
   "metadata": {},
   "source": [
    "# Preparations"
   ]
  },
  {
   "cell_type": "markdown",
   "metadata": {},
   "source": [
    "## Notebook extensions"
   ]
  },
  {
   "cell_type": "code",
   "execution_count": 1,
   "metadata": {
    "collapsed": false
   },
   "outputs": [
    {
     "data": {
      "application/javascript": [
       "require(['base/js/utils'],\n",
       "function(utils) {\n",
       "    utils.load_extensions('IPython-notebook-extensions-3.x/usability/comment-uncomment');\n",
       "    utils.load_extensions('IPython-notebook-extensions-3.x/usability/dragdrop/main');\n",
       "});"
      ],
      "text/plain": [
       "<IPython.core.display.Javascript object>"
      ]
     },
     "metadata": {},
     "output_type": "display_data"
    }
   ],
   "source": [
    "%%javascript\n",
    "require(['base/js/utils'],\n",
    "function(utils) {\n",
    "    utils.load_extensions('IPython-notebook-extensions-3.x/usability/comment-uncomment');\n",
    "    utils.load_extensions('IPython-notebook-extensions-3.x/usability/dragdrop/main');\n",
    "});"
   ]
  },
  {
   "cell_type": "code",
   "execution_count": 2,
   "metadata": {
    "collapsed": false
   },
   "outputs": [],
   "source": [
    "%load_ext autoreload\n",
    "%autoreload 2"
   ]
  },
  {
   "cell_type": "markdown",
   "metadata": {},
   "source": [
    "## Imports and configuration"
   ]
  },
  {
   "cell_type": "markdown",
   "metadata": {},
   "source": [
    "We set the path to the config.cfg file using the environment variable 'JCMPYTHON_CONFIG_FILE'."
   ]
  },
  {
   "cell_type": "code",
   "execution_count": 3,
   "metadata": {
    "collapsed": true
   },
   "outputs": [],
   "source": [
    "import os\n",
    "os.environ['JCMPYTHON_CONFIG_FILE'] = '/hmi/kme/workspace/scattering_generalized/160719_start/config.cfg'"
   ]
  },
  {
   "cell_type": "markdown",
   "metadata": {},
   "source": [
    "Now we can import `jcmpython` and `numpy`. Since the parent directory, which contains the jcmpython module, is not automatically in our path, we need to append it before."
   ]
  },
  {
   "cell_type": "code",
   "execution_count": 4,
   "metadata": {
    "collapsed": false
   },
   "outputs": [
    {
     "name": "stderr",
     "output_type": "stream",
     "text": [
      "[INFO] init: This is jcmpython. Starting up.\n",
      "[INFO] init: Writing logs to file: /hmi/kme/workspace/scattering_generalized/160719_start/examples/logs/160802.log\n"
     ]
    }
   ],
   "source": [
    "import sys\n",
    "sys.path.append('..')\n",
    "import jcmpython as jpy\n",
    "import numpy as np"
   ]
  },
  {
   "cell_type": "markdown",
   "metadata": {},
   "source": [
    "On import, we receive a some information on the configured logging and JCMsuite version, if the logging level is appropriate. We can get additional info on the version and the license."
   ]
  },
  {
   "cell_type": "code",
   "execution_count": 5,
   "metadata": {
    "collapsed": false
   },
   "outputs": [
    {
     "name": "stderr",
     "output_type": "stream",
     "text": [
      "[INFO] init: \n",
      "[INFO] init: JCMwave(R) FEM-Solver , Version 3.0.9-release\n",
      "[INFO] init: Modules: Electromagnetics ElectromagneticsTimeDependent ContinuumMechanics HeatConduction\n",
      "[INFO] init: Buildtag: linux64-2016.06.24.09.46\n",
      "[INFO] init: \n",
      "[INFO] init: *** license status ***\n",
      "[INFO] init: \n",
      "[INFO] init:   JCMROOT: /hmi/kme/programs/JCMsuite_3_0_9\n",
      "[INFO] init:   Host: nanosippe03\n",
      "[INFO] init:   License File: /hmi/kme/programs/JCMsuite_3_0_9/license/license.ljcm\n",
      "[INFO] init:   Server: nanosippe03\n",
      "[INFO] init:   HW-Adapter: F8-B1-56-D8-95-11\n",
      "[INFO] init:   Licensed OS: LINUX\n",
      "[INFO] init:   License period: 2015-06-08 -> 2016-12-31 \n",
      "[INFO] init:   Number of licenses: 12\n",
      "[INFO] init: \n"
     ]
    }
   ],
   "source": [
    "jpy.jcm_license_info()"
   ]
  },
  {
   "cell_type": "markdown",
   "metadata": {},
   "source": [
    "The versions of JCMsuite and jcmpython can be accessed by the module attributes `__jcm_version__` and `__version__`"
   ]
  },
  {
   "cell_type": "code",
   "execution_count": 6,
   "metadata": {
    "collapsed": false
   },
   "outputs": [
    {
     "name": "stdout",
     "output_type": "stream",
     "text": [
      "Version of JCMsuite: 3.0.9\n",
      "Version of jcmpython: 2.0.0\n"
     ]
    }
   ],
   "source": [
    "print 'Version of JCMsuite:', jpy.__jcm_version__\n",
    "print 'Version of jcmpython:', jpy.__version__"
   ]
  },
  {
   "cell_type": "markdown",
   "metadata": {},
   "source": [
    "## Extensions"
   ]
  },
  {
   "cell_type": "markdown",
   "metadata": {},
   "source": [
    "You can get a list of available extensions to jcmpython using the `extensions` module attribute."
   ]
  },
  {
   "cell_type": "code",
   "execution_count": 7,
   "metadata": {
    "collapsed": false
   },
   "outputs": [
    {
     "data": {
      "text/plain": [
       "['materials']"
      ]
     },
     "execution_count": 7,
     "metadata": {},
     "output_type": "execute_result"
    }
   ],
   "source": [
    "jpy.extensions"
   ]
  },
  {
   "cell_type": "markdown",
   "metadata": {},
   "source": [
    "Extensions may have additional dependencies or may need data that is not shipped with jcmpython. You can load an extension using the `load_extension` function."
   ]
  },
  {
   "cell_type": "code",
   "execution_count": 8,
   "metadata": {
    "collapsed": false
   },
   "outputs": [
    {
     "name": "stderr",
     "output_type": "stream",
     "text": [
      "[INFO] init: Loaded extension: materials\n"
     ]
    }
   ],
   "source": [
    "jpy.load_extension('materials')"
   ]
  },
  {
   "cell_type": "markdown",
   "metadata": {},
   "source": [
    "# Simulation"
   ]
  },
  {
   "cell_type": "markdown",
   "metadata": {},
   "source": [
    "## Preparing and configuring the simulation set"
   ]
  },
  {
   "cell_type": "markdown",
   "metadata": {},
   "source": [
    "We start by creating a `JCMProject`-instance describing the project we'd like to run.  The `mie2D`-project is located in a subdirectory of our *project catalog*, which is configured in the section `Data` under key `projects` in the configuration file. We could also specify an absolute path instead. Since we want to leave the actual project untouched, we specify a `working_dir` into which the project is copied before. `JCMgeo` and the template conversion will be executed in the working directory, for example. If we do not specify a working_dir, a folder called `current_run` will be used in the current directory."
   ]
  },
  {
   "cell_type": "code",
   "execution_count": 9,
   "metadata": {
    "collapsed": false
   },
   "outputs": [],
   "source": [
    "wdir = os.path.abspath('working_dir')\n",
    "project = jpy.JCMProject('scattering/mie/mie2D', working_dir=wdir)"
   ]
  },
  {
   "cell_type": "markdown",
   "metadata": {},
   "source": [
    "The JCMProject-instance automatically detected the name of the project file:"
   ]
  },
  {
   "cell_type": "code",
   "execution_count": 10,
   "metadata": {
    "collapsed": false
   },
   "outputs": [
    {
     "data": {
      "text/plain": [
       "'mie2D.jcmp'"
      ]
     },
     "execution_count": 10,
     "metadata": {},
     "output_type": "execute_result"
    }
   ],
   "source": [
    "project.project_file_name"
   ]
  },
  {
   "cell_type": "markdown",
   "metadata": {},
   "source": [
    "If it fails to find a proper file or if it finds multiple project files, it raises an Exception. You can specify the project file name manually using the parameter `project_file_name` on initialization."
   ]
  },
  {
   "cell_type": "markdown",
   "metadata": {},
   "source": [
    "To run simulations using this project, we create a `SimulationSet` (this could also be single simulation). The keys that are necessary to translate the JCM template files (i.e. the `.jcmp(t)`-files) need to be given as a nested `dict` with keys `constants`, `parameters` and `geometry` in the top level. The values for these keys need to be `dict`s as well, providing all necessary keys for the template translation in total. Their function is as follows:\n",
    "\n",
    "  - `constants`: can be of any type, but are not stored in the HDF5 store. This is useful for minor parameters, such as the info level in the project, as it does not change the result of the simulation. But it can also be used to pass complicated data, such as material data maps.\n",
    "  - `parameters`: All parameters that *do not* change the geometry, i.e. do not belong to the `layout.jcmt` template.\n",
    "  - `geometry`: All parameters that *do* change the geometry, i.e. belong to the `layout.jcmt` template.\n",
    "  \n",
    "If a sequence is provided for any of the `parameters` or `geometry` values, loops will be performed (depending on the `combination_mode` of the `SimulationSet`).\n",
    "\n",
    "In the mie2D project, there is only one parameter: the *radius* of the circle. This parameter changes the geometry! We'd like to scan over different radii and, consequently, provide a numpy.array for it. We leave the other two `dict`s empty."
   ]
  },
  {
   "cell_type": "code",
   "execution_count": 11,
   "metadata": {
    "collapsed": true
   },
   "outputs": [],
   "source": [
    "mie_keys = {'constants' :{},\n",
    "            'parameters': {},\n",
    "            'geometry': {'radius':np.linspace(0.3, 0.5, 40)}}"
   ]
  },
  {
   "cell_type": "markdown",
   "metadata": {},
   "source": [
    "Now, the `SimulationSet` can be initialized."
   ]
  },
  {
   "cell_type": "code",
   "execution_count": 12,
   "metadata": {
    "collapsed": false
   },
   "outputs": [
    {
     "name": "stderr",
     "output_type": "stream",
     "text": [
      "[INFO] jcmpython.core: Using folder /net/group/kme-data/simulations/scattering_generalized/160719_start/examples/160802 for data storage.\n"
     ]
    }
   ],
   "source": [
    "simuset = jpy.SimulationSet(project, mie_keys)"
   ]
  },
  {
   "cell_type": "markdown",
   "metadata": {},
   "source": [
    "We are now informed about the directory in which our data is stored as configured in the configuration file and by the `duplicate_path_levels` parameter. The path is also stored in the attribute `storage_dir`. It now contains an `.h5` database file:"
   ]
  },
  {
   "cell_type": "code",
   "execution_count": 13,
   "metadata": {
    "collapsed": false
   },
   "outputs": [
    {
     "data": {
      "text/plain": [
       "['result_database.h5']"
      ]
     },
     "execution_count": 13,
     "metadata": {},
     "output_type": "execute_result"
    }
   ],
   "source": [
    "os.listdir(simuset.storage_dir)"
   ]
  },
  {
   "cell_type": "markdown",
   "metadata": {},
   "source": [
    "We can now make a schedule for the simulations that we want to perform. This includes that\n",
    "\n",
    "  1. all parameter combinations are determinded,\n",
    "  2. the simulations are sorted in a way to have minimal calls of JCMgeo (which can be expensive) and\n",
    "  3. the database is checked for matching simulations which already have been done.\n",
    "\n",
    "In our case, the database is still empty and we should end up with 40 simulations, as we specified 40 different radii."
   ]
  },
  {
   "cell_type": "code",
   "execution_count": 14,
   "metadata": {
    "collapsed": false
   },
   "outputs": [
    {
     "name": "stderr",
     "output_type": "stream",
     "text": [
      "[INFO] jcmpython.core: Loops will be done over the following parameter(s): ['radius']\n",
      "[INFO] jcmpython.core: Total number of simulations: 40\n"
     ]
    }
   ],
   "source": [
    "simuset.make_simulation_schedule()"
   ]
  },
  {
   "cell_type": "markdown",
   "metadata": {},
   "source": [
    "The store should still be empty at this time:"
   ]
  },
  {
   "cell_type": "code",
   "execution_count": 15,
   "metadata": {
    "collapsed": false
   },
   "outputs": [
    {
     "data": {
      "text/plain": [
       "True"
      ]
     },
     "execution_count": 15,
     "metadata": {},
     "output_type": "execute_result"
    }
   ],
   "source": [
    "simuset.is_store_empty()"
   ]
  },
  {
   "cell_type": "markdown",
   "metadata": {},
   "source": [
    "Depending on the configured servers, there might be multiple workstations or queues which can be used by the JCMdaemon to run the simulations. For this 2D project, we can restrict the resources to be only the local computer, i.e. 'localhost'."
   ]
  },
  {
   "cell_type": "code",
   "execution_count": 16,
   "metadata": {
    "collapsed": false
   },
   "outputs": [
    {
     "name": "stderr",
     "output_type": "stream",
     "text": [
      "[INFO] jcmpython.core: Restricting resources to: ['localhost']\n"
     ]
    }
   ],
   "source": [
    "simuset.use_only_resources('localhost')\n",
    "simuset.get_current_resources()[0].set_m_n(6,1)"
   ]
  },
  {
   "cell_type": "markdown",
   "metadata": {},
   "source": [
    "You can get a list of the currently configured resources that will be used by the SimulationSet using the `get_current_resources`-method."
   ]
  },
  {
   "cell_type": "code",
   "execution_count": 17,
   "metadata": {
    "collapsed": false
   },
   "outputs": [
    {
     "data": {
      "text/plain": [
       "[Workstation(localhost, M=6, N=1)]"
      ]
     },
     "execution_count": 17,
     "metadata": {},
     "output_type": "execute_result"
    }
   ],
   "source": [
    "simuset.get_current_resources()"
   ]
  },
  {
   "cell_type": "markdown",
   "metadata": {},
   "source": [
    "## Computing geometries only"
   ]
  },
  {
   "cell_type": "markdown",
   "metadata": {},
   "source": [
    "Computing a geometry (i.e. running `jcm.geo`) for a specific simulation of our `SimulationSet` is an easy task now. We only need to call the `compute_geometry` method with the index of the simulation (or the `Simulation` instance itself). We can pass additional keyword arguments to jcm.geo, such as a `jcmt_pattern` if desired."
   ]
  },
  {
   "cell_type": "markdown",
   "metadata": {},
   "source": [
    "Let's compute the geometry for the first simulation of our set. The simulation has the following properties:"
   ]
  },
  {
   "cell_type": "code",
   "execution_count": 18,
   "metadata": {
    "collapsed": false
   },
   "outputs": [
    {
     "name": "stdout",
     "output_type": "stream",
     "text": [
      "Simulation(number=0, status=Pending)\n",
      "keys: {'radius': 0.29999999999999999}\n"
     ]
    }
   ],
   "source": [
    "sim = simuset.simulations[0]\n",
    "print sim\n",
    "print 'keys:', sim.keys"
   ]
  },
  {
   "cell_type": "markdown",
   "metadata": {},
   "source": [
    "Now we run jcm.geo for it (we also could have written `simuset.compute_geometry(0)`)"
   ]
  },
  {
   "cell_type": "code",
   "execution_count": 19,
   "metadata": {
    "collapsed": false
   },
   "outputs": [],
   "source": [
    "simuset.compute_geometry(0)"
   ]
  },
  {
   "cell_type": "markdown",
   "metadata": {},
   "source": [
    "The project's working directory now contains a grid file:"
   ]
  },
  {
   "cell_type": "code",
   "execution_count": 20,
   "metadata": {
    "collapsed": false
   },
   "outputs": [
    {
     "data": {
      "text/plain": [
       "['layout.jcmt',\n",
       " 'layout.jcmt~',\n",
       " 'sources.jcm',\n",
       " 'triangulator.jcm',\n",
       " 'grid.jcm',\n",
       " 'materials.jcm',\n",
       " 'mie2D.jcmp',\n",
       " 'layout.jcm']"
      ]
     },
     "execution_count": 20,
     "metadata": {},
     "output_type": "execute_result"
    }
   ],
   "source": [
    "os.listdir(simuset.get_project_wdir())"
   ]
  },
  {
   "cell_type": "markdown",
   "metadata": {},
   "source": [
    "## Running a single simulation"
   ]
  },
  {
   "cell_type": "markdown",
   "metadata": {},
   "source": [
    "Before demonstrating how to solve the complete set of simulations, we show how to solve a single simulation using JCMsolve. This can be very useful if the simulation is still being developed or if something needs to be recomputed later. We can solve a specific simulation using the `solve_single_simulation` method by passing the simulation number or the Simulation-instance. It automatically computes the geometry (if `compute_geometry` is True) and adds the resources if necessary."
   ]
  },
  {
   "cell_type": "code",
   "execution_count": 21,
   "metadata": {
    "collapsed": false
   },
   "outputs": [
    {
     "name": "stdout",
     "output_type": "stream",
     "text": [
      "Status before solving: Pending\n",
      "Status after solving: Finished\n"
     ]
    }
   ],
   "source": [
    "print 'Status before solving:', sim.status\n",
    "results, logs = simuset.solve_single_simulation(sim)\n",
    "print 'Status after solving:', sim.status"
   ]
  },
  {
   "cell_type": "markdown",
   "metadata": {},
   "source": [
    "All the results and logs are also stored as attributes of the Simulation-instance as `logs`, `error_message`, `exit_code` and `jcm_results`, e.g."
   ]
  },
  {
   "cell_type": "code",
   "execution_count": 22,
   "metadata": {
    "collapsed": false
   },
   "outputs": [
    {
     "name": "stdout",
     "output_type": "stream",
     "text": [
      "\n",
      "\n",
      "\n",
      "*** Solving /net/group/kme-data/simulations/scattering_generalized/160719_start/examples/160802/simulation000000/mie2D.jcmp on refinement level 0 ... \n",
      "\n",
      "  A priori segments/wavelength (quality = 2.00e-02)\n",
      "  FEM degree  'one wavelength'  direction X  direction Y\n",
      "--------------------------------------------------------\n",
      "           1              5.57        33.68        33.68\n",
      "           2              2.65         6.99         6.99\n",
      "           3              1.90         3.57         3.57\n",
      "           4              1.34         2.11         2.11\n",
      "           5              1.04         1.47         1.47\n",
      "           6              0.85         1.11         1.11\n",
      "           7              0.72         0.88         0.88\n",
      "           8              0.61         0.73         0.73\n",
      "           9              0.53         0.62         0.62\n",
      "          10              0.47         0.54         0.54\n",
      "  minimum seg/wavelength in grid : 2.75\n",
      "  maximum seg/wavelength in grid : 37.35\n",
      "\n",
      "  *** A priori interior domain wave propagation characteristics (vacuum wavelength = 550.000 nm):\n",
      "  \n",
      "       Compartment \"X\":\n",
      "    computational domain size:  7.3 (wavelengths).\n",
      "    computational domain range wave propagation error: 0.0025\n",
      "    'one wavelength' wave propagation error: 0.0009 \n",
      "  \n",
      "       Compartment \"-X\":\n",
      "    computational domain size:  7.3 (wavelengths).\n",
      "    computational domain range wave propagation error: 0.0024\n",
      "    'one wavelength' wave propagation error: 0.00086 \n",
      "  \n",
      "       Compartment \"Y\":\n",
      "    computational domain size:  7.3 (wavelengths).\n",
      "    computational domain range wave propagation error: 0.0024\n",
      "    'one wavelength' wave propagation error: 0.00086 \n",
      "  \n",
      "       Compartment \"-Y\":\n",
      "    computational domain size:  7.3 (wavelengths).\n",
      "    computational domain range wave propagation error: 0.0025\n",
      "    'one wavelength' wave propagation error: 0.0009 \n",
      "\n",
      "Cell percentage per Finite Element degree\n",
      "  FEM degree  Cell percentage\n",
      "-----------------------------------------\n",
      "           2             17.0\n",
      "           3             25.6\n",
      "           4             57.3\n",
      "\n",
      "assembling problem (22246 unknowns) ...  \n",
      "assembling problem done: 00:00:00.22 (cpu), 00:00:01 (total) (matrix entries/row = 20)\n",
      "solving discrete problem ... progress[remaining time]: 25%[<1min], 50%[<1min], 75%[<1min], 100%[finished]\n",
      "solving discrete problem done: 00:00:00.16 (cpu), 00:00:00 (total), 24.51MB (mem)\n",
      "  *** A posteriori exterior domain quality check:\n",
      "       Compartment  \"X\": 0.14 (0 angle refinements in 0 steps)\n",
      "       Compartment \"-X\": 0.022 (0 angle refinements in 0 steps)\n",
      "       Compartment  \"Y\": 0.042 (0 angle refinements in 0 steps)\n",
      "       Compartment \"-Y\": 0.032 (0 angle refinements in 0 steps)\n",
      "updating inner nodes ...\n",
      "updating inner nodes done: 00:00:00.11 (cpu), 00:00:00 (total)\n",
      "\n",
      "\n",
      "                              computational costs\n",
      "  level  unknowns  cpu time  cpu/unknowns  system memory  total time  total memory\n",
      "----------------------------------------------------------------------------------\n",
      "      0     22246  00:00:01      4.50e-05        24.51MB    00:00:02      355.63MB\n",
      "\n",
      "*** Maximum number of refinement steps reached. *** \n",
      "\n",
      "post process FluxIntegration (output file: 'energyflux_scattered.jcm') ... done: 00:00:00.04 (cpu), 00:00:00 (total)\n",
      "\n"
     ]
    }
   ],
   "source": [
    "print sim.logs"
   ]
  },
  {
   "cell_type": "markdown",
   "metadata": {},
   "source": [
    "The fieldbag file path is also set as an attribute:"
   ]
  },
  {
   "cell_type": "code",
   "execution_count": 23,
   "metadata": {
    "collapsed": false
   },
   "outputs": [
    {
     "data": {
      "text/plain": [
       "'/net/group/kme-data/simulations/scattering_generalized/160719_start/examples/160802/simulation000000/mie2D_results/fieldbag.jcm'"
      ]
     },
     "execution_count": 23,
     "metadata": {},
     "output_type": "execute_result"
    }
   ],
   "source": [
    "sim.fieldbag_file"
   ]
  },
  {
   "cell_type": "markdown",
   "metadata": {},
   "source": [
    "## Developing and using an evaluation function"
   ]
  },
  {
   "cell_type": "markdown",
   "metadata": {},
   "source": [
    "So far we only have solved the simulation by (1) computing the geometry and (2) running JCMsolve. This is fine and it may be that no further step is desired. However, yet nothing is set up to be saved to the HDF5 store, so nothing but the input parameters will appear in it. As a minimal step, we may want to save the computational costs of our simulations. But normally, post processes will be part of your JCM project file and you may want to (3) extract information from them or even derive quantities from them by further processing.\n",
    "\n",
    "If all you want to do is store the computational cost, this is automatically done by calling the `evaluate_results` method of the Simulation-instance without further input arguments."
   ]
  },
  {
   "cell_type": "code",
   "execution_count": 24,
   "metadata": {
    "collapsed": false
   },
   "outputs": [],
   "source": [
    "sim.evaluate_results()"
   ]
  },
  {
   "cell_type": "markdown",
   "metadata": {},
   "source": [
    "If the logging-level is set to 'DEBUG', you see the message 'No result evaluation was done.' to inform you that only the computational costs have been read out. The results that will be stored are now described by the (hidden) attribute `_results_dict`:"
   ]
  },
  {
   "cell_type": "code",
   "execution_count": 25,
   "metadata": {
    "collapsed": false
   },
   "outputs": [
    {
     "data": {
      "text/plain": [
       "{'AccumulatedCPUTime': 1.377941,\n",
       " 'AccumulatedTotalTime': 2.0,\n",
       " 'CpuPerUnknown': 4.4951901465431989e-05,\n",
       " 'CpuTime': 1.0,\n",
       " 'CpuTimeAssembling': 0.226996,\n",
       " 'CpuTimeInnerNodeUpdate': 0.117289,\n",
       " 'CpuTimeSolve': 0.16007099999999999,\n",
       " 'FEDegree0_Percentage': 0.0,\n",
       " 'FEDegree10_Percentage': 0.0,\n",
       " 'FEDegree1_Percentage': 0.0,\n",
       " 'FEDegree2_Percentage': 17.025998731769182,\n",
       " 'FEDegree3_Percentage': 25.649968294229549,\n",
       " 'FEDegree4_Percentage': 57.32403297400127,\n",
       " 'FEDegree5_Percentage': 0.0,\n",
       " 'FEDegree6_Percentage': 0.0,\n",
       " 'FEDegree7_Percentage': 0.0,\n",
       " 'FEDegree8_Percentage': 0.0,\n",
       " 'FEDegree9_Percentage': 0.0,\n",
       " 'Level': 0,\n",
       " 'SystemMemory_GB': 0.02393341064453125,\n",
       " 'TotalMemory_GB': 0.34729766845703119,\n",
       " 'TotalTime': 2,\n",
       " 'TotalTimeAssembling': 1.0,\n",
       " 'TotalTimeInnerNodeUpdate': 0.0,\n",
       " 'TotalTimeSolve': 0.0,\n",
       " 'Unknowns': 22246}"
      ]
     },
     "execution_count": 25,
     "metadata": {},
     "output_type": "execute_result"
    }
   ],
   "source": [
    "sim._results_dict"
   ]
  },
  {
   "cell_type": "markdown",
   "metadata": {},
   "source": [
    "The status of the simulation is now updated."
   ]
  },
  {
   "cell_type": "code",
   "execution_count": 26,
   "metadata": {
    "collapsed": false
   },
   "outputs": [
    {
     "data": {
      "text/plain": [
       "'Finished and evaluated'"
      ]
     },
     "execution_count": 26,
     "metadata": {},
     "output_type": "execute_result"
    }
   ],
   "source": [
    "sim.status"
   ]
  },
  {
   "cell_type": "markdown",
   "metadata": {},
   "source": [
    "To execute further evaluations, we can use the `evaluation_func`-argument. From the docs:\n",
    "\n",
    "    The `evaluation_func` must be a function of a single input argument. \n",
    "    A list of all results returned by post processes in JCMsolve are passed\n",
    "    to this function. It must return a dict with key-value pairs that should\n",
    "    be saved to the HDF5 store. Consequently, the values must be of types\n",
    "    that can be stored to HDF5, otherwise Exceptions will occur in the\n",
    "    saving steps.\n",
    "\n",
    "In the mie2D-project a `FluxIntegration` is used as a `PostProcess`-section in mie2D.jcmp. It's results will be passed to the `evaluation_func`. As this is the only post process, the length of the list passed to the `evaluation_func` will be 1. We can see the list using"
   ]
  },
  {
   "cell_type": "code",
   "execution_count": 27,
   "metadata": {
    "collapsed": false
   },
   "outputs": [
    {
     "data": {
      "text/plain": [
       "[{'AbsElectromagneticFieldEnergyFlux': {0: array([  3.28061875e-09])},\n",
       "  'DomainIdFirst': array([1], dtype=int32),\n",
       "  'DomainIdSecond': array([1], dtype=int32),\n",
       "  'ElectromagneticFieldEnergyFlux': {0: array([  3.27837317e-09 -1.14159218e-11j])},\n",
       "  'title': 'ElectromagneticFieldEnergyFlux'}]"
      ]
     },
     "execution_count": 27,
     "metadata": {},
     "output_type": "execute_result"
    }
   ],
   "source": [
    "sim.jcm_results[1:]"
   ]
  },
  {
   "cell_type": "markdown",
   "metadata": {},
   "source": [
    "We'd like to store the real part of the `ElectromagneticFieldEnergyFlux` of the zeroth source, as this is the scattering cross section (SCS) of our Mie-scatterer. The function `evaluation_func` will simply look like this:"
   ]
  },
  {
   "cell_type": "code",
   "execution_count": 28,
   "metadata": {
    "collapsed": true
   },
   "outputs": [],
   "source": [
    "def read_scs(pp):\n",
    "    results = {} #must be a dict\n",
    "    results['SCS'] = pp[0]['ElectromagneticFieldEnergyFlux'][0][0].real\n",
    "    return results"
   ]
  },
  {
   "cell_type": "markdown",
   "metadata": {},
   "source": [
    "We can try it out by running `evaluate_results` results again, this time passing our custom function. We need to set `overwrite` to True to force the evaluation to be executed again."
   ]
  },
  {
   "cell_type": "code",
   "execution_count": 29,
   "metadata": {
    "collapsed": false
   },
   "outputs": [],
   "source": [
    "sim.evaluate_results(evaluation_func=read_scs, overwrite=True)"
   ]
  },
  {
   "cell_type": "markdown",
   "metadata": {},
   "source": [
    "We now have an additional key called 'SCS' in our `_results_dict`. It will be stored in the HDF5 store."
   ]
  },
  {
   "cell_type": "code",
   "execution_count": 30,
   "metadata": {
    "collapsed": false
   },
   "outputs": [
    {
     "data": {
      "text/plain": [
       "3.2783731738282799e-09"
      ]
     },
     "execution_count": 30,
     "metadata": {},
     "output_type": "execute_result"
    }
   ],
   "source": [
    "sim._results_dict['SCS']"
   ]
  },
  {
   "cell_type": "markdown",
   "metadata": {},
   "source": [
    "You can get the complete data of the simulation including input parameters and results as a pandas DataFrame:"
   ]
  },
  {
   "cell_type": "code",
   "execution_count": 31,
   "metadata": {
    "collapsed": false
   },
   "outputs": [
    {
     "data": {
      "text/html": [
       "<div>\n",
       "<table border=\"1\" class=\"dataframe\">\n",
       "  <thead>\n",
       "    <tr style=\"text-align: right;\">\n",
       "      <th></th>\n",
       "      <th>AccumulatedCPUTime</th>\n",
       "      <th>AccumulatedTotalTime</th>\n",
       "      <th>CpuPerUnknown</th>\n",
       "      <th>CpuTime</th>\n",
       "      <th>CpuTimeAssembling</th>\n",
       "      <th>CpuTimeInnerNodeUpdate</th>\n",
       "      <th>CpuTimeSolve</th>\n",
       "      <th>FEDegree0_Percentage</th>\n",
       "      <th>FEDegree10_Percentage</th>\n",
       "      <th>FEDegree1_Percentage</th>\n",
       "      <th>...</th>\n",
       "      <th>Level</th>\n",
       "      <th>SCS</th>\n",
       "      <th>SystemMemory_GB</th>\n",
       "      <th>TotalMemory_GB</th>\n",
       "      <th>TotalTime</th>\n",
       "      <th>TotalTimeAssembling</th>\n",
       "      <th>TotalTimeInnerNodeUpdate</th>\n",
       "      <th>TotalTimeSolve</th>\n",
       "      <th>Unknowns</th>\n",
       "      <th>radius</th>\n",
       "    </tr>\n",
       "  </thead>\n",
       "  <tbody>\n",
       "    <tr>\n",
       "      <th>0</th>\n",
       "      <td>1.377941</td>\n",
       "      <td>2.0</td>\n",
       "      <td>0.000045</td>\n",
       "      <td>1.0</td>\n",
       "      <td>0.226996</td>\n",
       "      <td>0.117289</td>\n",
       "      <td>0.160071</td>\n",
       "      <td>0.0</td>\n",
       "      <td>0.0</td>\n",
       "      <td>0.0</td>\n",
       "      <td>...</td>\n",
       "      <td>0</td>\n",
       "      <td>3.278373e-09</td>\n",
       "      <td>0.023933</td>\n",
       "      <td>0.347298</td>\n",
       "      <td>2</td>\n",
       "      <td>1.0</td>\n",
       "      <td>0.0</td>\n",
       "      <td>0.0</td>\n",
       "      <td>22246</td>\n",
       "      <td>0.3</td>\n",
       "    </tr>\n",
       "  </tbody>\n",
       "</table>\n",
       "<p>1 rows × 28 columns</p>\n",
       "</div>"
      ],
      "text/plain": [
       "   AccumulatedCPUTime  AccumulatedTotalTime  CpuPerUnknown  CpuTime  \\\n",
       "0            1.377941                   2.0       0.000045      1.0   \n",
       "\n",
       "   CpuTimeAssembling  CpuTimeInnerNodeUpdate  CpuTimeSolve  \\\n",
       "0           0.226996                0.117289      0.160071   \n",
       "\n",
       "   FEDegree0_Percentage  FEDegree10_Percentage  FEDegree1_Percentage   ...    \\\n",
       "0                   0.0                    0.0                   0.0   ...     \n",
       "\n",
       "   Level           SCS  SystemMemory_GB  TotalMemory_GB  TotalTime  \\\n",
       "0      0  3.278373e-09         0.023933        0.347298          2   \n",
       "\n",
       "   TotalTimeAssembling  TotalTimeInnerNodeUpdate  TotalTimeSolve  Unknowns  \\\n",
       "0                  1.0                       0.0             0.0     22246   \n",
       "\n",
       "   radius  \n",
       "0     0.3  \n",
       "\n",
       "[1 rows x 28 columns]"
      ]
     },
     "execution_count": 31,
     "metadata": {},
     "output_type": "execute_result"
    }
   ],
   "source": [
    "sim._get_DataFrame()"
   ]
  },
  {
   "cell_type": "markdown",
   "metadata": {},
   "source": [
    "## Running all simulations"
   ]
  },
  {
   "cell_type": "markdown",
   "metadata": {},
   "source": [
    "Finally, we can run all our simulations and evaluate them using our custom `evaluation_func`. This is done in parallel using all the resources that we have added. The results will be appended to the HDF5 store."
   ]
  },
  {
   "cell_type": "code",
   "execution_count": 32,
   "metadata": {
    "collapsed": false
   },
   "outputs": [
    {
     "name": "stderr",
     "output_type": "stream",
     "text": [
      "[INFO] jcmpython.core: Starting to solve.\n",
      "[INFO] jcmpython.core: Waiting for 10 simulation(s) to finish...\n",
      "[INFO] jcmpython.core: Waiting for 10 simulation(s) to finish...\n",
      "[INFO] jcmpython.core: Waiting for 10 simulation(s) to finish...\n",
      "[INFO] jcmpython.core: Waiting for 10 simulation(s) to finish...\n",
      "[INFO] jcmpython.core: Total time for all simulations: 0:00:20.752710\n"
     ]
    }
   ],
   "source": [
    "simuset.run(N=10, evaluation_func=read_scs)"
   ]
  },
  {
   "cell_type": "code",
   "execution_count": 33,
   "metadata": {
    "collapsed": false
   },
   "outputs": [
    {
     "data": {
      "text/plain": [
       "<matplotlib.axes._subplots.AxesSubplot at 0x6d15990>"
      ]
     },
     "execution_count": 33,
     "metadata": {},
     "output_type": "execute_result"
    },
    {
     "data": {
      "image/png": "[encoded data removed]",
      "text/plain": [
       "<matplotlib.figure.Figure at 0x6d06f90>"
      ]
     },
     "metadata": {},
     "output_type": "display_data"
    }
   ],
   "source": [
    "%matplotlib inline\n",
    "import matplotlib.pyplot as plt\n",
    "import seaborn as sns\n",
    "sns.set_context('notebook')\n",
    "\n",
    "data = simuset.get_store_data()\n",
    "data.plot(x='radius', y='SCS', title='Results of the simulation')"
   ]
  },
  {
   "cell_type": "markdown",
   "metadata": {},
   "source": [
    "## Adding data in a later run"
   ]
  },
  {
   "cell_type": "markdown",
   "metadata": {},
   "source": [
    "Let's assume we want to extend our store in a later session. The automatic data comparison will detect that some of the data is already known and will only execute the missing simulations. The same mechanism helps to continue the SimulationSet on the point were it stopped, e.g. due to a keyboard interruption or a server error. \n",
    "\n",
    "For demonstration, we extend our list of radii and reinitialize the SimulationSet. To show the power of the comparison mechanism we provide the radii in a mixed up order."
   ]
  },
  {
   "cell_type": "code",
   "execution_count": 34,
   "metadata": {
    "collapsed": true
   },
   "outputs": [],
   "source": [
    "extended_radii = np.append(np.linspace(0.5, 0.6, 40)[1:], np.linspace(0.3, 0.5, 40))\n",
    "mie_keys_extended = {'constants' :{},\n",
    "                     'parameters': {},\n",
    "                     'geometry': {'radius':extended_radii}}"
   ]
  },
  {
   "cell_type": "markdown",
   "metadata": {},
   "source": [
    "We close the store, delete the SimulationSet instance and start all over."
   ]
  },
  {
   "cell_type": "code",
   "execution_count": 35,
   "metadata": {
    "collapsed": false
   },
   "outputs": [],
   "source": [
    "simuset.close_store()\n",
    "del simuset"
   ]
  },
  {
   "cell_type": "code",
   "execution_count": 36,
   "metadata": {
    "collapsed": false
   },
   "outputs": [
    {
     "name": "stderr",
     "output_type": "stream",
     "text": [
      "[INFO] jcmpython.core: Using folder /net/group/kme-data/simulations/scattering_generalized/160719_start/examples/160802 for data storage.\n",
      "[INFO] jcmpython.core: Loops will be done over the following parameter(s): ['radius']\n",
      "[INFO] jcmpython.core: Total number of simulations: 79\n",
      "[INFO] jcmpython.core: Found matches in the extended check of the HDF5 store. Number of stored simulations: 40\n"
     ]
    }
   ],
   "source": [
    "simuset = jpy.SimulationSet(project, mie_keys_extended)\n",
    "simuset.make_simulation_schedule()"
   ]
  },
  {
   "cell_type": "markdown",
   "metadata": {},
   "source": [
    "We are now informed that matches have been found in the HDF5 store. The residual simulations can be executed as before. This time, we set `delete_wdirs` to `True` to demonstarte the automatic deletion of the working directories. "
   ]
  },
  {
   "cell_type": "code",
   "execution_count": 37,
   "metadata": {
    "collapsed": false
   },
   "outputs": [
    {
     "name": "stderr",
     "output_type": "stream",
     "text": [
      "[INFO] jcmpython.core: Starting to solve.\n",
      "[INFO] jcmpython.core: Waiting for 10 simulation(s) to finish...\n",
      "[INFO] jcmpython.core: Waiting for 10 simulation(s) to finish...\n",
      "[INFO] jcmpython.core: Waiting for 10 simulation(s) to finish...\n",
      "[INFO] jcmpython.core: Cleaning up old working directories.\n",
      "[INFO] jcmpython.core: Total time for all simulations: 0:00:24.457117\n"
     ]
    }
   ],
   "source": [
    "simuset.run(N=10, evaluation_func=read_scs, delete_wdirs=True)"
   ]
  },
  {
   "cell_type": "code",
   "execution_count": 38,
   "metadata": {
    "collapsed": false
   },
   "outputs": [
    {
     "data": {
      "text/plain": [
       "['/net/group/kme-data/simulations/scattering_generalized/160719_start/examples/160802/simulation000067',\n",
       " '/net/group/kme-data/simulations/scattering_generalized/160719_start/examples/160802/simulation000068',\n",
       " '/net/group/kme-data/simulations/scattering_generalized/160719_start/examples/160802/simulation000047',\n",
       " '/net/group/kme-data/simulations/scattering_generalized/160719_start/examples/160802/simulation000048',\n",
       " '/net/group/kme-data/simulations/scattering_generalized/160719_start/examples/160802/simulation000043',\n",
       " '/net/group/kme-data/simulations/scattering_generalized/160719_start/examples/160802/simulation000044',\n",
       " '/net/group/kme-data/simulations/scattering_generalized/160719_start/examples/160802/simulation000045',\n",
       " '/net/group/kme-data/simulations/scattering_generalized/160719_start/examples/160802/simulation000046',\n",
       " '/net/group/kme-data/simulations/scattering_generalized/160719_start/examples/160802/simulation000039',\n",
       " '/net/group/kme-data/simulations/scattering_generalized/160719_start/examples/160802/simulation000040',\n",
       " '/net/group/kme-data/simulations/scattering_generalized/160719_start/examples/160802/simulation000041',\n",
       " '/net/group/kme-data/simulations/scattering_generalized/160719_start/examples/160802/simulation000042',\n",
       " '/net/group/kme-data/simulations/scattering_generalized/160719_start/examples/160802/simulation000074',\n",
       " '/net/group/kme-data/simulations/scattering_generalized/160719_start/examples/160802/simulation000061',\n",
       " '/net/group/kme-data/simulations/scattering_generalized/160719_start/examples/160802/simulation000062',\n",
       " '/net/group/kme-data/simulations/scattering_generalized/160719_start/examples/160802/simulation000059',\n",
       " '/net/group/kme-data/simulations/scattering_generalized/160719_start/examples/160802/simulation000060',\n",
       " '/net/group/kme-data/simulations/scattering_generalized/160719_start/examples/160802/simulation000058',\n",
       " '/net/group/kme-data/simulations/scattering_generalized/160719_start/examples/160802/simulation000057',\n",
       " '/net/group/kme-data/simulations/scattering_generalized/160719_start/examples/160802/simulation000056',\n",
       " '/net/group/kme-data/simulations/scattering_generalized/160719_start/examples/160802/simulation000055',\n",
       " '/net/group/kme-data/simulations/scattering_generalized/160719_start/examples/160802/simulation000054',\n",
       " '/net/group/kme-data/simulations/scattering_generalized/160719_start/examples/160802/simulation000053',\n",
       " '/net/group/kme-data/simulations/scattering_generalized/160719_start/examples/160802/simulation000052',\n",
       " '/net/group/kme-data/simulations/scattering_generalized/160719_start/examples/160802/simulation000051',\n",
       " '/net/group/kme-data/simulations/scattering_generalized/160719_start/examples/160802/simulation000050',\n",
       " '/net/group/kme-data/simulations/scattering_generalized/160719_start/examples/160802/simulation000049',\n",
       " '/net/group/kme-data/simulations/scattering_generalized/160719_start/examples/160802/simulation000065',\n",
       " '/net/group/kme-data/simulations/scattering_generalized/160719_start/examples/160802/simulation000063',\n",
       " '/net/group/kme-data/simulations/scattering_generalized/160719_start/examples/160802/simulation000064',\n",
       " '/net/group/kme-data/simulations/scattering_generalized/160719_start/examples/160802/simulation000066',\n",
       " '/net/group/kme-data/simulations/scattering_generalized/160719_start/examples/160802/simulation000073',\n",
       " '/net/group/kme-data/simulations/scattering_generalized/160719_start/examples/160802/simulation000076',\n",
       " '/net/group/kme-data/simulations/scattering_generalized/160719_start/examples/160802/simulation000075',\n",
       " '/net/group/kme-data/simulations/scattering_generalized/160719_start/examples/160802/simulation000070',\n",
       " '/net/group/kme-data/simulations/scattering_generalized/160719_start/examples/160802/simulation000069',\n",
       " '/net/group/kme-data/simulations/scattering_generalized/160719_start/examples/160802/simulation000072',\n",
       " '/net/group/kme-data/simulations/scattering_generalized/160719_start/examples/160802/simulation000071',\n",
       " '/net/group/kme-data/simulations/scattering_generalized/160719_start/examples/160802/simulation000078',\n",
       " '/net/group/kme-data/simulations/scattering_generalized/160719_start/examples/160802/simulation000077']"
      ]
     },
     "execution_count": 38,
     "metadata": {},
     "output_type": "execute_result"
    }
   ],
   "source": [
    "simuset._wdirs_to_clean"
   ]
  },
  {
   "cell_type": "markdown",
   "metadata": {},
   "source": [
    "We can now plot our extended results."
   ]
  },
  {
   "cell_type": "code",
   "execution_count": 39,
   "metadata": {
    "collapsed": false
   },
   "outputs": [
    {
     "data": {
      "text/plain": [
       "<matplotlib.axes._subplots.AxesSubplot at 0x6d27310>"
      ]
     },
     "execution_count": 39,
     "metadata": {},
     "output_type": "execute_result"
    },
    {
     "data": {
      "image/png": "[encoded data removed]",
      "text/plain": [
       "<matplotlib.figure.Figure at 0x6d1f850>"
      ]
     },
     "metadata": {},
     "output_type": "display_data"
    }
   ],
   "source": [
    "simuset.get_store_data().plot(x='radius', y='SCS', title='Results of the simulation')"
   ]
  }
 ],
 "metadata": {
  "kernelspec": {
   "display_name": "Python 2",
   "language": "python",
   "name": "python2"
  },
  "language_info": {
   "codemirror_mode": {
    "name": "ipython",
    "version": 2
   },
   "file_extension": ".py",
   "mimetype": "text/x-python",
   "name": "python",
   "nbconvert_exporter": "python",
   "pygments_lexer": "ipython2",
   "version": "2.7.6"
  }
 },
 "nbformat": 4,
 "nbformat_minor": 0
}
