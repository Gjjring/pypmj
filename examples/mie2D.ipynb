{
 "cells": [
  {
   "cell_type": "markdown",
   "metadata": {},
   "source": [
    "# Preparations"
   ]
  },
  {
   "cell_type": "markdown",
   "metadata": {},
   "source": [
    "## Notebook extensions"
   ]
  },
  {
   "cell_type": "code",
   "execution_count": 1,
   "metadata": {
    "collapsed": false
   },
   "outputs": [
    {
     "data": {
      "application/javascript": [
       "require(['base/js/utils'],\n",
       "function(utils) {\n",
       "    utils.load_extensions('IPython-notebook-extensions-3.x/usability/comment-uncomment');\n",
       "    utils.load_extensions('IPython-notebook-extensions-3.x/usability/dragdrop/main');\n",
       "});"
      ],
      "text/plain": [
       "<IPython.core.display.Javascript object>"
      ]
     },
     "metadata": {},
     "output_type": "display_data"
    }
   ],
   "source": [
    "%%javascript\n",
    "require(['base/js/utils'],\n",
    "function(utils) {\n",
    "    utils.load_extensions('IPython-notebook-extensions-3.x/usability/comment-uncomment');\n",
    "    utils.load_extensions('IPython-notebook-extensions-3.x/usability/dragdrop/main');\n",
    "});"
   ]
  },
  {
   "cell_type": "code",
   "execution_count": 2,
   "metadata": {
    "collapsed": false
   },
   "outputs": [],
   "source": [
    "%load_ext autoreload\n",
    "%autoreload 2"
   ]
  },
  {
   "cell_type": "markdown",
   "metadata": {},
   "source": [
    "## Imports and configuration"
   ]
  },
  {
   "cell_type": "markdown",
   "metadata": {},
   "source": [
    "We set the path to the config.cfg file using the environment variable 'JCMPYTHON_CONFIG_FILE'."
   ]
  },
  {
   "cell_type": "code",
   "execution_count": 3,
   "metadata": {
    "collapsed": true
   },
   "outputs": [],
   "source": [
    "import os\n",
    "os.environ['JCMPYTHON_CONFIG_FILE'] = '/hmi/kme/workspace/scattering_generalized/160719_start/config.cfg'"
   ]
  },
  {
   "cell_type": "markdown",
   "metadata": {},
   "source": [
    "Now we can import `jcmpython` and `numpy`. Since the parent directory, which contains the jcmpython module, is not automatically in our path, we need to append it before."
   ]
  },
  {
   "cell_type": "code",
   "execution_count": 4,
   "metadata": {
    "collapsed": false
   },
   "outputs": [
    {
     "name": "stderr",
     "output_type": "stream",
     "text": [
      "[INFO] init: This is jcmpython. Starting up.\n",
      "[INFO] init: Writing logs to file: /hmi/kme/workspace/scattering_generalized/160719_start/examples/logs/160729.log\n",
      "[DEBUG] init: System info:\n",
      "[DEBUG] init: \tJCMROOT: /hmi/kme/programs/JCMsuite_3_0_9\n",
      "[DEBUG] init: \tJCMKERNEL: V3\n",
      "[DEBUG] init: Initializing resources from configuration.\n"
     ]
    }
   ],
   "source": [
    "import sys\n",
    "sys.path.append('..')\n",
    "import jcmpython as jpy\n",
    "import numpy as np"
   ]
  },
  {
   "cell_type": "markdown",
   "metadata": {},
   "source": [
    "On import, we receive a some information on the configured logging and JCMsuite version, if the logging level is appropriate. We can get additional info on the version and the license."
   ]
  },
  {
   "cell_type": "code",
   "execution_count": 5,
   "metadata": {
    "collapsed": false
   },
   "outputs": [
    {
     "name": "stderr",
     "output_type": "stream",
     "text": [
      "[INFO] init: \n",
      "[INFO] init: JCMwave(R) FEM-Solver , Version 3.0.9-release\n",
      "[INFO] init: Modules: Electromagnetics ElectromagneticsTimeDependent ContinuumMechanics HeatConduction\n",
      "[INFO] init: Buildtag: linux64-2016.06.24.09.46\n",
      "[INFO] init: \n",
      "[INFO] init: *** license status ***\n",
      "[INFO] init: \n",
      "[INFO] init:   JCMROOT: /hmi/kme/programs/JCMsuite_3_0_9\n",
      "[INFO] init:   Host: nanosippe03\n",
      "[INFO] init:   License File: /hmi/kme/programs/JCMsuite_3_0_9/license/license.ljcm\n",
      "[INFO] init:   Server: nanosippe03\n",
      "[INFO] init:   HW-Adapter: F8-B1-56-D8-95-11\n",
      "[INFO] init:   Licensed OS: LINUX\n",
      "[INFO] init:   License period: 2015-06-08 -> 2016-12-31 \n",
      "[INFO] init:   Number of licenses: 12\n",
      "[INFO] init: \n"
     ]
    }
   ],
   "source": [
    "jpy.license_info()"
   ]
  },
  {
   "cell_type": "markdown",
   "metadata": {},
   "source": [
    "# Simulation"
   ]
  },
  {
   "cell_type": "markdown",
   "metadata": {},
   "source": [
    "## Preparing and configuring the simulation set"
   ]
  },
  {
   "cell_type": "markdown",
   "metadata": {},
   "source": [
    "We start by creating a `JCMProject`-instance describing the project we'd like to run.  The `mie2D`-project is located in a subdirectory of our *project catalog*, which is configured in the section `Data` under key `projects` in the configuration file. We could also specify an absolute path instead. Since we want to leave the actual project untouched, we specify a `working_dir` into which the project is copied before. `JCMgeo` and the template conversion will be executed in the working directory, for example. If we do not specify a working_dir, a folder called `current_run` will be used in the current directory."
   ]
  },
  {
   "cell_type": "code",
   "execution_count": 6,
   "metadata": {
    "collapsed": false
   },
   "outputs": [],
   "source": [
    "wdir = os.path.abspath('working_dir')\n",
    "project = jpy.JCMProject('scattering/mie/mie2D', working_dir=wdir)"
   ]
  },
  {
   "cell_type": "markdown",
   "metadata": {},
   "source": [
    "The JCMProject-instance automatically detected the name of the project file:"
   ]
  },
  {
   "cell_type": "code",
   "execution_count": 7,
   "metadata": {
    "collapsed": false
   },
   "outputs": [
    {
     "data": {
      "text/plain": [
       "'mie2D.jcmp'"
      ]
     },
     "execution_count": 7,
     "metadata": {},
     "output_type": "execute_result"
    }
   ],
   "source": [
    "project.project_file_name"
   ]
  },
  {
   "cell_type": "markdown",
   "metadata": {},
   "source": [
    "If it fails to find a proper file or if it finds multiple project files, it raises an Exception. You can specify the project file name manually using the parameter `project_file_name` on initialization."
   ]
  },
  {
   "cell_type": "markdown",
   "metadata": {},
   "source": [
    "To run simulations using this project, we create a `SimulationSet` (this could also be single simulation). The keys that are necessary to translate the JCM template files (i.e. the `.jcmp(t)`-files) need to be given as a nested `dict` with keys `constants`, `parameters` and `geometry` in the top level. The values for these keys need to be `dict`s as well, providing all necessary keys for the template translation in total. Their function is as follows:\n",
    "\n",
    "  - `constants`: can be of any type, but are not stored in the HDF5 store. This is useful for minor parameters, such as the info level in the project, as it does not change the result of the simulation. But it can also be used to pass complicated data, such as material data maps.\n",
    "  - `parameters`: All parameters that *do not* change the geometry, i.e. do not belong to the `layout.jcmt` template.\n",
    "  - `geometry`: All parameters that *do* change the geometry, i.e. belong to the `layout.jcmt` template.\n",
    "  \n",
    "If a sequence is provided for any of the `parameters` or `geometry` values, loops will be performed (depending on the `combination_mode` of the `SimulationSet`).\n",
    "\n",
    "In the mie2D project, there is only one parameter: the *radius* of the circle. This parameter changes the geometry! We'd like to scan over different radii and, consequently, provide a numpy.array for it. We leave the other two `dict`s empty."
   ]
  },
  {
   "cell_type": "code",
   "execution_count": 8,
   "metadata": {
    "collapsed": true
   },
   "outputs": [],
   "source": [
    "mie_keys = {'constants' :{},\n",
    "            'parameters': {},\n",
    "            'geometry': {'radius':np.linspace(0.3, 0.5, 40)}}"
   ]
  },
  {
   "cell_type": "markdown",
   "metadata": {},
   "source": [
    "Now, the `SimulationSet` can be initialized."
   ]
  },
  {
   "cell_type": "code",
   "execution_count": 9,
   "metadata": {
    "collapsed": false
   },
   "outputs": [
    {
     "name": "stderr",
     "output_type": "stream",
     "text": [
      "[DEBUG] root: Removing existing folder /hmi/kme/workspace/scattering_generalized/160719_start/examples/working_dir\n",
      "[DEBUG] root: Copying project to folder: /hmi/kme/workspace/scattering_generalized/160719_start/examples/working_dir\n",
      "[INFO] root: Using folder /net/group/kme-data/simulations/scattering_generalized/160719_start/examples/160729 for data storage.\n",
      "[DEBUG] root: Initializing the HDF5 store\n"
     ]
    }
   ],
   "source": [
    "simuset = jpy.SimulationSet(project, mie_keys)"
   ]
  },
  {
   "cell_type": "markdown",
   "metadata": {},
   "source": [
    "We are now informed about the directory in which our data is stored as configured in the configuration file and by the `duplicate_path_levels` parameter. The path is also stored in the attribute `storage_dir`. It now contains an `.h5` database file:"
   ]
  },
  {
   "cell_type": "code",
   "execution_count": 10,
   "metadata": {
    "collapsed": false
   },
   "outputs": [
    {
     "data": {
      "text/plain": [
       "['result_database.h5', 'simulation000000']"
      ]
     },
     "execution_count": 10,
     "metadata": {},
     "output_type": "execute_result"
    }
   ],
   "source": [
    "os.listdir(simuset.storage_dir)"
   ]
  },
  {
   "cell_type": "markdown",
   "metadata": {},
   "source": [
    "We can now make a schedule for the simulations that we want to perform. This includes that\n",
    "\n",
    "  1. all parameter combinations are determinded,\n",
    "  2. the simulations are sorted in a way to have minimal calls of JCMgeo (which can be expensive) and\n",
    "  3. the database is checked for matching simulations which already have been done.\n",
    "\n",
    "In our case, the database is still empty and we should end up with 40 simulations, as we specified 40 different radii."
   ]
  },
  {
   "cell_type": "code",
   "execution_count": 11,
   "metadata": {
    "collapsed": false
   },
   "outputs": [
    {
     "name": "stderr",
     "output_type": "stream",
     "text": [
      "[DEBUG] root: Analyzing loop properties.\n",
      "[INFO] root: Loops will be done over the following parameter(s): ['radius']\n",
      "[INFO] root: Total number of simulations: 40\n",
      "[DEBUG] root: Generating the simulation list.\n",
      "[DEBUG] root: Sorting the simulations.\n",
      "[DEBUG] root: Result of the store pre-check: Empty\n"
     ]
    }
   ],
   "source": [
    "simuset.make_simulation_schedule()"
   ]
  },
  {
   "cell_type": "markdown",
   "metadata": {},
   "source": [
    "The store should still be empty at this time:"
   ]
  },
  {
   "cell_type": "code",
   "execution_count": 12,
   "metadata": {
    "collapsed": false
   },
   "outputs": [
    {
     "data": {
      "text/plain": [
       "True"
      ]
     },
     "execution_count": 12,
     "metadata": {},
     "output_type": "execute_result"
    }
   ],
   "source": [
    "simuset.is_store_empty()"
   ]
  },
  {
   "cell_type": "markdown",
   "metadata": {},
   "source": [
    "Depending on the configured servers, there might be multiple workstations or queues which can be used by the JCMdaemon to run the simulations. For this 2D project, we can restrict the resources to be only the local computer, i.e. 'localhost'."
   ]
  },
  {
   "cell_type": "code",
   "execution_count": 13,
   "metadata": {
    "collapsed": false
   },
   "outputs": [
    {
     "name": "stderr",
     "output_type": "stream",
     "text": [
      "[INFO] root: Restricting resources to: ['localhost']\n"
     ]
    }
   ],
   "source": [
    "simuset.use_only_resources('localhost')"
   ]
  },
  {
   "cell_type": "markdown",
   "metadata": {},
   "source": [
    "You can get a list of the currently configured resources that will be used by the SimulationSet using the `get_current_resources`-method."
   ]
  },
  {
   "cell_type": "code",
   "execution_count": 14,
   "metadata": {
    "collapsed": false
   },
   "outputs": [
    {
     "data": {
      "text/plain": [
       "[Workstation(localhost, M=1, N=1)]"
      ]
     },
     "execution_count": 14,
     "metadata": {},
     "output_type": "execute_result"
    }
   ],
   "source": [
    "simuset.get_current_resources()"
   ]
  },
  {
   "cell_type": "markdown",
   "metadata": {},
   "source": [
    "## Computing geometries only"
   ]
  },
  {
   "cell_type": "markdown",
   "metadata": {},
   "source": [
    "Computing a geometry (i.e. running `jcm.geo`) for a specific simulation of our `SimulationSet` is an easy task now. We only need to call the `compute_geometry` method with the index of the simulation (or the `Simulation` instance itself). We can pass additional keyword arguments to jcm.geo, such as a `jcmt_pattern` if desired."
   ]
  },
  {
   "cell_type": "markdown",
   "metadata": {},
   "source": [
    "Let's compute the geometry for the first simulation of our set. The simulation has the following properties:"
   ]
  },
  {
   "cell_type": "code",
   "execution_count": 15,
   "metadata": {
    "collapsed": false
   },
   "outputs": [
    {
     "name": "stdout",
     "output_type": "stream",
     "text": [
      "Simulation(number=0, status=Pending)\n",
      "keys: {'radius': 0.29999999999999999}\n"
     ]
    }
   ],
   "source": [
    "sim = simuset.simulations[0]\n",
    "print sim\n",
    "print 'keys:', sim.keys"
   ]
  },
  {
   "cell_type": "markdown",
   "metadata": {},
   "source": [
    "Now we run jcm.geo for it (we also could have written `simuset.compute_geometry(0)`)"
   ]
  },
  {
   "cell_type": "code",
   "execution_count": 16,
   "metadata": {
    "collapsed": false
   },
   "outputs": [
    {
     "name": "stderr",
     "output_type": "stream",
     "text": [
      "[DEBUG] root: Computing geometry.\n"
     ]
    }
   ],
   "source": [
    "simuset.compute_geometry(sim)"
   ]
  },
  {
   "cell_type": "markdown",
   "metadata": {},
   "source": [
    "The project's working directory now contains a grid file:"
   ]
  },
  {
   "cell_type": "code",
   "execution_count": 17,
   "metadata": {
    "collapsed": false
   },
   "outputs": [
    {
     "data": {
      "text/plain": [
       "['layout.jcmt',\n",
       " 'sources.jcm',\n",
       " 'triangulator.jcm',\n",
       " 'grid.jcm',\n",
       " 'materials.jcm',\n",
       " 'mie2D.jcmp',\n",
       " 'layout.jcm']"
      ]
     },
     "execution_count": 17,
     "metadata": {},
     "output_type": "execute_result"
    }
   ],
   "source": [
    "os.listdir(simuset.get_project_wdir())"
   ]
  },
  {
   "cell_type": "markdown",
   "metadata": {},
   "source": [
    "## Running simulations"
   ]
  },
  {
   "cell_type": "code",
   "execution_count": 18,
   "metadata": {
    "collapsed": false
   },
   "outputs": [
    {
     "name": "stderr",
     "output_type": "stream",
     "text": [
      "[DEBUG] jcmpython.parallelization: Adding Workstation(localhost, M=1, N=1)\n",
      "[DEBUG] jcmpython.parallelization: ... adding was successful.\n",
      "[DEBUG] root: Starting to simulate.\n",
      "[DEBUG] root: Computing geometry.\n",
      "[DEBUG] root: Queued simulation 1 of 40 with jobID 673458234\n",
      "[DEBUG] root: Computing geometry.\n",
      "[DEBUG] root: Queued simulation 2 of 40 with jobID 2090203248\n",
      "[DEBUG] root: Computing geometry.\n",
      "[DEBUG] root: Queued simulation 3 of 40 with jobID 609864098\n",
      "[DEBUG] root: Computing geometry.\n",
      "[DEBUG] root: Queued simulation 4 of 40 with jobID 1925905960\n",
      "[DEBUG] root: Computing geometry.\n",
      "[DEBUG] root: Queued simulation 5 of 40 with jobID 1199005044\n",
      "[DEBUG] root: Computing geometry.\n",
      "[DEBUG] root: Queued simulation 6 of 40 with jobID 2124831418\n",
      "[DEBUG] root: Computing geometry.\n",
      "[DEBUG] root: Queued simulation 7 of 40 with jobID 45207571\n",
      "[DEBUG] root: Computing geometry.\n",
      "[DEBUG] root: Queued simulation 8 of 40 with jobID 1972651129\n",
      "[DEBUG] root: Computing geometry.\n",
      "[DEBUG] root: Queued simulation 9 of 40 with jobID 1653678231\n",
      "[DEBUG] root: Computing geometry.\n",
      "[DEBUG] root: Queued simulation 10 of 40 with jobID 1089483724\n",
      "[DEBUG] root: Waiting for 10 simulation(s) to finish...\n",
      "[DEBUG] root: _wait_for_simulations: Waiting for jobIDs:\n",
      "[DEBUG] root: _wait_for_simulations: Trying to convert jobID 673458234 to simNumber...\n",
      "[DEBUG] root: _wait_for_simulations: Trying to convert jobID 2090203248 to simNumber...\n",
      "[DEBUG] root: _wait_for_simulations: Trying to convert jobID 609864098 to simNumber...\n",
      "[DEBUG] root: _wait_for_simulations: Trying to convert jobID 1925905960 to simNumber...\n",
      "[DEBUG] root: _wait_for_simulations: Trying to convert jobID 1199005044 to simNumber...\n",
      "[DEBUG] root: _wait_for_simulations: Trying to convert jobID 2124831418 to simNumber...\n",
      "[DEBUG] root: _wait_for_simulations: Trying to convert jobID 45207571 to simNumber...\n",
      "[DEBUG] root: _wait_for_simulations: Trying to convert jobID 1972651129 to simNumber...\n",
      "[DEBUG] root: _wait_for_simulations: Trying to convert jobID 1653678231 to simNumber...\n",
      "[DEBUG] root: Would save results now for sim numbers: [0, 1, 2, 3, 4, 5, 6, 7, 8].\n"
     ]
    },
    {
     "name": "stdout",
     "output_type": "stream",
     "text": [
      "DAEMON.WAIT:  Failed: /net/group/kme-data/simulations/scattering_generalized/160719_start/examples/160729/simulation000000/mie2D.jcmp\n",
      "DAEMON.WAIT:  Failed: /net/group/kme-data/simulations/scattering_generalized/160719_start/examples/160729/simulation000001/mie2D.jcmp\n",
      "DAEMON.WAIT:  Failed: /net/group/kme-data/simulations/scattering_generalized/160719_start/examples/160729/simulation000002/mie2D.jcmp\n",
      "DAEMON.WAIT:  Failed: /net/group/kme-data/simulations/scattering_generalized/160719_start/examples/160729/simulation000003/mie2D.jcmp\n",
      "DAEMON.WAIT:  Failed: /net/group/kme-data/simulations/scattering_generalized/160719_start/examples/160729/simulation000004/mie2D.jcmp\n",
      "DAEMON.WAIT:  Failed: /net/group/kme-data/simulations/scattering_generalized/160719_start/examples/160729/simulation000005/mie2D.jcmp\n",
      "DAEMON.WAIT:  Failed: /net/group/kme-data/simulations/scattering_generalized/160719_start/examples/160729/simulation000006/mie2D.jcmp\n",
      "DAEMON.WAIT:  Failed: /net/group/kme-data/simulations/scattering_generalized/160719_start/examples/160729/simulation000007/mie2D.jcmp\n",
      "DAEMON.WAIT:  Failed: /net/group/kme-data/simulations/scattering_generalized/160719_start/examples/160729/simulation000008/mie2D.jcmp\n"
     ]
    },
    {
     "ename": "AttributeError",
     "evalue": "'SimulationSet' object has no attribute 'cleanMode'",
     "output_type": "error",
     "traceback": [
      "\u001b[1;31m---------------------------------------------------------------------------\u001b[0m",
      "\u001b[1;31mAttributeError\u001b[0m                            Traceback (most recent call last)",
      "\u001b[1;32m<ipython-input-18-377b98c6b548>\u001b[0m in \u001b[0;36m<module>\u001b[1;34m()\u001b[0m\n\u001b[1;32m----> 1\u001b[1;33m \u001b[0msimuset\u001b[0m\u001b[1;33m.\u001b[0m\u001b[0mrun\u001b[0m\u001b[1;33m(\u001b[0m\u001b[1;33m)\u001b[0m\u001b[1;33m\u001b[0m\u001b[0m\n\u001b[0m",
      "\u001b[1;32m/hmi/kme/workspace/scattering_generalized/160719_start/jcmpython/core.py\u001b[0m in \u001b[0;36mrun\u001b[1;34m(self)\u001b[0m\n\u001b[0;32m   1407\u001b[0m         \u001b[1;31m# Try to add the resources\u001b[0m\u001b[1;33m\u001b[0m\u001b[1;33m\u001b[0m\u001b[0m\n\u001b[0;32m   1408\u001b[0m         \u001b[0mself\u001b[0m\u001b[1;33m.\u001b[0m\u001b[0madd_resources\u001b[0m\u001b[1;33m(\u001b[0m\u001b[1;33m)\u001b[0m\u001b[1;33m\u001b[0m\u001b[0m\n\u001b[1;32m-> 1409\u001b[1;33m         \u001b[0mself\u001b[0m\u001b[1;33m.\u001b[0m\u001b[0m_start_simulations\u001b[0m\u001b[1;33m(\u001b[0m\u001b[1;36m10\u001b[0m\u001b[1;33m)\u001b[0m\u001b[1;33m\u001b[0m\u001b[0m\n\u001b[0m\u001b[0;32m   1410\u001b[0m \u001b[1;33m\u001b[0m\u001b[0m\n\u001b[0;32m   1411\u001b[0m         logging.info('Total time for all simulations: {}'.format(\n",
      "\u001b[1;32m/hmi/kme/workspace/scattering_generalized/160719_start/jcmpython/core.py\u001b[0m in \u001b[0;36m_start_simulations\u001b[1;34m(self, N, jcm_geo_kwargs, jcm_solve_kwargs)\u001b[0m\n\u001b[0;32m   1281\u001b[0m                         logging.debug('Waiting for {} '.format(len(jobIDs)) +\n\u001b[0;32m   1282\u001b[0m                                       'simulation(s) to finish...')\n\u001b[1;32m-> 1283\u001b[1;33m                         \u001b[0mself\u001b[0m\u001b[1;33m.\u001b[0m\u001b[0m_wait_for_simulations\u001b[0m\u001b[1;33m(\u001b[0m\u001b[0mjobIDs\u001b[0m\u001b[1;33m,\u001b[0m \u001b[0mID2simNumber\u001b[0m\u001b[1;33m)\u001b[0m\u001b[1;33m\u001b[0m\u001b[0m\n\u001b[0m\u001b[0;32m   1284\u001b[0m                         \u001b[0mjobIDs\u001b[0m \u001b[1;33m=\u001b[0m \u001b[1;33m[\u001b[0m\u001b[1;33m]\u001b[0m\u001b[1;33m\u001b[0m\u001b[0m\n\u001b[0;32m   1285\u001b[0m                         \u001b[0mID2simNumber\u001b[0m \u001b[1;33m=\u001b[0m \u001b[1;33m{\u001b[0m\u001b[1;33m}\u001b[0m\u001b[1;33m\u001b[0m\u001b[0m\n",
      "\u001b[1;32m/hmi/kme/workspace/scattering_generalized/160719_start/jcmpython/core.py\u001b[0m in \u001b[0;36m_wait_for_simulations\u001b[1;34m(self, ids2waitFor, ID2simNumber)\u001b[0m\n\u001b[0;32m   1371\u001b[0m             \u001b[1;31m# Remove all working directories of the finished simulations if\u001b[0m\u001b[1;33m\u001b[0m\u001b[1;33m\u001b[0m\u001b[0m\n\u001b[0;32m   1372\u001b[0m             \u001b[1;31m# cleanMode is used\u001b[0m\u001b[1;33m\u001b[0m\u001b[1;33m\u001b[0m\u001b[0m\n\u001b[1;32m-> 1373\u001b[1;33m             \u001b[1;32mif\u001b[0m \u001b[0mself\u001b[0m\u001b[1;33m.\u001b[0m\u001b[0mcleanMode\u001b[0m\u001b[1;33m:\u001b[0m\u001b[1;33m\u001b[0m\u001b[0m\n\u001b[0m\u001b[0;32m   1374\u001b[0m                 \u001b[1;32mfor\u001b[0m \u001b[0mn\u001b[0m \u001b[1;32min\u001b[0m \u001b[0mfinishedSimNumbers\u001b[0m\u001b[1;33m:\u001b[0m\u001b[1;33m\u001b[0m\u001b[0m\n\u001b[0;32m   1375\u001b[0m                     \u001b[0mself\u001b[0m\u001b[1;33m.\u001b[0m\u001b[0msimulations\u001b[0m\u001b[1;33m[\u001b[0m\u001b[0mn\u001b[0m\u001b[1;33m]\u001b[0m\u001b[1;33m.\u001b[0m\u001b[0mremoveWorkingDirectory\u001b[0m\u001b[1;33m(\u001b[0m\u001b[1;33m)\u001b[0m\u001b[1;33m\u001b[0m\u001b[0m\n",
      "\u001b[1;31mAttributeError\u001b[0m: 'SimulationSet' object has no attribute 'cleanMode'"
     ]
    }
   ],
   "source": [
    "simuset.run()"
   ]
  }
 ],
 "metadata": {
  "kernelspec": {
   "display_name": "Python 2",
   "language": "python",
   "name": "python2"
  },
  "language_info": {
   "codemirror_mode": {
    "name": "ipython",
    "version": 2
   },
   "file_extension": ".py",
   "mimetype": "text/x-python",
   "name": "python",
   "nbconvert_exporter": "python",
   "pygments_lexer": "ipython2",
   "version": "2.7.6"
  }
 },
 "nbformat": 4,
 "nbformat_minor": 0
}
