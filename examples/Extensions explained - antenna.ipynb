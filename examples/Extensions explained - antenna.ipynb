{
 "cells": [
  {
   "cell_type": "markdown",
   "metadata": {},
   "source": [
    "# Imports and configuration"
   ]
  },
  {
   "cell_type": "markdown",
   "metadata": {},
   "source": [
    "We import all required packages for plotting, etc., and `pypmj`. Set the path to your configuration file, if you have one, or import jcmwave using the `import_jcmwave`-method of `pypmj`."
   ]
  },
  {
   "cell_type": "code",
   "execution_count": null,
   "metadata": {
    "collapsed": false
   },
   "outputs": [],
   "source": [
    "import numpy as np\n",
    "import sys\n",
    "sys.path.append('..')\n",
    "\n",
    "import os\n",
    "# os.environ['PYPMJ_CONFIG_FILE'] = '' # <- path to your configuration file\n",
    "\n",
    "import pypmj as jpy\n",
    "# jpy.import_jcmwave('') <- manual import if you do not have a configuration file\n",
    "jpy.load_extension('antenna')"
   ]
  },
  {
   "cell_type": "markdown",
   "metadata": {},
   "source": [
    "# What this extension is for"
   ]
  },
  {
   "cell_type": "markdown",
   "metadata": {},
   "source": [
    "TODO"
   ]
  },
  {
   "cell_type": "markdown",
   "metadata": {},
   "source": [
    "# Usage"
   ]
  },
  {
   "cell_type": "markdown",
   "metadata": {},
   "source": [
    "## Project and simulation setup"
   ]
  },
  {
   "cell_type": "markdown",
   "metadata": {},
   "source": [
    "We will use the `mie2D_rot` project shipped with pypmj. Make sure to specify a valid path to this project here."
   ]
  },
  {
   "cell_type": "code",
   "execution_count": null,
   "metadata": {
    "collapsed": false
   },
   "outputs": [],
   "source": [
    "project = jpy.JCMProject('../projects/scattering/mie/mie2D_rot')"
   ]
  },
  {
   "cell_type": "markdown",
   "metadata": {},
   "source": [
    "For showcase, we initialize a single simulation which uses our project. This project does not require any keys, so we provide an empty dictionary."
   ]
  },
  {
   "cell_type": "code",
   "execution_count": null,
   "metadata": {
    "collapsed": false
   },
   "outputs": [],
   "source": [
    "sim = jpy.Simulation(keys={}, project=project)"
   ]
  },
  {
   "cell_type": "markdown",
   "metadata": {},
   "source": [
    "## Using the `FarFieldEvaluation` class"
   ]
  },
  {
   "cell_type": "markdown",
   "metadata": {},
   "source": [
    "The project represents a simple Mie scatterer, which can be treated as an antenna. To evaluate the *directivity* and the *far field power*, we initialize a `FarFieldEvaluation`-instance. In the default configuration, we only need to pass our simulation instance. You can further control the resolution, the direction and the dimensionality of the problem in the constructor (type `jpy.FarFieldEvaluation?` into a cell for more info)."
   ]
  },
  {
   "cell_type": "code",
   "execution_count": null,
   "metadata": {
    "collapsed": true
   },
   "outputs": [],
   "source": [
    "ffe = jpy.FarFieldEvaluation(simulation=sim)"
   ]
  },
  {
   "cell_type": "markdown",
   "metadata": {},
   "source": [
    "In case you configured multiple ressources, weinitialize a custom `ResourceManager` to solve the simulation on the local machine."
   ]
  },
  {
   "cell_type": "code",
   "execution_count": null,
   "metadata": {
    "collapsed": false
   },
   "outputs": [],
   "source": [
    "rm = jpy.ResourceManager()\n",
    "rm.use_only_resources('localhost')"
   ]
  },
  {
   "cell_type": "markdown",
   "metadata": {},
   "source": [
    "### Analyzing data"
   ]
  },
  {
   "cell_type": "markdown",
   "metadata": {},
   "source": [
    "We will now analyze the far field characteristics using the `analyze_far_field`. The far field evaluator takes care that the simulation is solved before the evaluation. If it is not yet solved, we can provide any keyword we want to the `Simulation.solve_standalone`-method in the next call. We demonstarte this by unsing our own resource manager. If the simulation is already solved, these keywords have no effect and the far field is directly evaluated."
   ]
  },
  {
   "cell_type": "code",
   "execution_count": null,
   "metadata": {
    "collapsed": false
   },
   "outputs": [],
   "source": [
    "ffe.analyze_far_field(resource_manager=rm)"
   ]
  },
  {
   "cell_type": "markdown",
   "metadata": {},
   "source": [
    "The `FarFieldEvaluation`-instance now has new attributes that describe the antenna characteristics. These are in the default case:\n",
    "\n",
    "  - numerical aperture: `NA`\n",
    "  - far field power: `power`\n",
    "  - directivity: `directivity`\n",
    "  - total power: `total_power`\n",
    "\n",
    "The first three of the are dictionaries with keys `'up'` and `'down'`, to distinguish the up- and down-directions.\n",
    "\n",
    "**Note:** Depending on the `direction` parameter, some of these attributes may not be present."
   ]
  },
  {
   "cell_type": "code",
   "execution_count": null,
   "metadata": {
    "collapsed": false
   },
   "outputs": [],
   "source": [
    "print ffe.NA.keys()\n",
    "print ffe.power.keys()\n",
    "print ffe.directivity.keys()\n",
    "print ffe.total_power"
   ]
  },
  {
   "cell_type": "markdown",
   "metadata": {},
   "source": [
    "### Saving and loading"
   ]
  },
  {
   "cell_type": "markdown",
   "metadata": {},
   "source": [
    "You can save the attributes which were generated in the evaluation process into a file object easily."
   ]
  },
  {
   "cell_type": "code",
   "execution_count": null,
   "metadata": {
    "collapsed": true
   },
   "outputs": [],
   "source": [
    "save_file = os.path.join(sim.working_dir(), 'saved_far_field')\n",
    "ffe.save_far_field_data(save_file)"
   ]
  },
  {
   "cell_type": "markdown",
   "metadata": {},
   "source": [
    "The simulation working directory now contains an .npz file. "
   ]
  },
  {
   "cell_type": "code",
   "execution_count": null,
   "metadata": {
    "collapsed": false
   },
   "outputs": [],
   "source": [
    "os.listdir(sim.working_dir())"
   ]
  },
  {
   "cell_type": "markdown",
   "metadata": {},
   "source": [
    "To demonstrate loading, we initialize a new, empty far field evaluator and call the `load_far_field_data` method with the path to the save file."
   ]
  },
  {
   "cell_type": "code",
   "execution_count": null,
   "metadata": {
    "collapsed": false
   },
   "outputs": [],
   "source": [
    "ffe2 = jpy.FarFieldEvaluation()\n",
    "ffe2.load_far_field_data(save_file)\n",
    "\n",
    "print ffe2.NA.keys()\n",
    "print ffe2.power.keys()\n",
    "print ffe2.directivity.keys()\n",
    "print ffe2.total_power"
   ]
  },
  {
   "cell_type": "markdown",
   "metadata": {},
   "source": [
    "# Plotting results"
   ]
  },
  {
   "cell_type": "markdown",
   "metadata": {},
   "source": [
    "We need some additional packages for plotting"
   ]
  },
  {
   "cell_type": "code",
   "execution_count": null,
   "metadata": {
    "collapsed": true
   },
   "outputs": [],
   "source": [
    "%matplotlib notebook\n",
    "\n",
    "import matplotlib\n",
    "import matplotlib.pyplot as plt\n",
    "from mpl_toolkits.mplot3d import Axes3D\n",
    "import seaborn as sns\n",
    "sns.set_style(\"whitegrid\")"
   ]
  },
  {
   "cell_type": "markdown",
   "metadata": {},
   "source": [
    "We plot the calculated directivity as a surface plot."
   ]
  },
  {
   "cell_type": "code",
   "execution_count": null,
   "metadata": {
    "collapsed": false
   },
   "outputs": [],
   "source": [
    "# Load prefered colormap from the pypmj configuration\n",
    "cmap =jpy._config.get('Preferences', 'colormap')\n",
    "\n",
    "# Plot\n",
    "fig = plt.figure()\n",
    "ax = fig.add_subplot(111, projection='3d')\n",
    "\n",
    "ax.plot_surface(ffe.directivity['up'][0].real,\n",
    "                ffe.directivity['up'][1].real,\n",
    "                ffe.directivity['up'][2].real,\n",
    "                rstride=1, cstride=1, cmap=cmap)\n",
    "\n",
    "ax.plot_surface(ffe.directivity['down'][0].real,\n",
    "                ffe.directivity['down'][1].real,\n",
    "                ffe.directivity['down'][2].real,\n",
    "                rstride=1, cstride=1, cmap=cmap)\n",
    "\n",
    "dist = 4\n",
    "ax.set_xlim([-dist*.6,dist*.6])\n",
    "ax.set_ylim([-dist*.6,dist*.6])\n",
    "ax.set_zlim([-dist*.6,dist*.6])\n",
    "plt.show()"
   ]
  },
  {
   "cell_type": "markdown",
   "metadata": {},
   "source": [
    "We can further plot the power that is scattered to the upper and lower half-space and the sum of both powers as a function of the numerical aperture. Note that for an NA of 1.0, 100% of the power is collected if we look at the sum. just as it is expected."
   ]
  },
  {
   "cell_type": "code",
   "execution_count": null,
   "metadata": {
    "collapsed": false
   },
   "outputs": [],
   "source": [
    "power_up = ffe.power['up']/ffe.total_power*100\n",
    "power_down = ffe.power['down']/ffe.total_power*100\n",
    "power_total = power_up + power_down[::-1]\n",
    "\n",
    "plt.figure()\n",
    "plt.plot(ffe.NA['up'], power_up, label='Up')\n",
    "plt.plot(ffe.NA['down'], power_down, label='Down')\n",
    "plt.plot(ffe.NA['up'], power_total, label='Sum')\n",
    "plt.xlabel('NA')\n",
    "plt.ylabel('Collection Efficiency (%)')\n",
    "plt.legend(loc='best')\n",
    "plt.show()"
   ]
  }
 ],
 "metadata": {
  "kernelspec": {
   "display_name": "Python 2",
   "language": "python",
   "name": "python2"
  },
  "language_info": {
   "codemirror_mode": {
    "name": "ipython",
    "version": 2
   },
   "file_extension": ".py",
   "mimetype": "text/x-python",
   "name": "python",
   "nbconvert_exporter": "python",
   "pygments_lexer": "ipython2",
   "version": "2.7.6"
  }
 },
 "nbformat": 4,
 "nbformat_minor": 0
}
