{
 "cells": [
  {
   "cell_type": "markdown",
   "metadata": {},
   "source": [
    "# Getting a config parser"
   ]
  },
  {
   "cell_type": "markdown",
   "metadata": {},
   "source": [
    "The jcmpython-module uses a configuration file in which all information about the JCMsuite-installation, data storage, servers and so on are set. This makes jcmpython very flexible, as you can generate as many configuration files as you like. Here, we show how to easily set up your configuration using the config_tools shipped with jcmpython.\n",
    "\n",
    "We first import the config_tools."
   ]
  },
  {
   "cell_type": "code",
   "execution_count": null,
   "metadata": {
    "collapsed": true
   },
   "outputs": [],
   "source": [
    "import config_tools as ct"
   ]
  },
  {
   "cell_type": "markdown",
   "metadata": {},
   "source": [
    "We can get a suitable config parser for convenient setting of our preferences."
   ]
  },
  {
   "cell_type": "code",
   "execution_count": null,
   "metadata": {
    "collapsed": true
   },
   "outputs": [],
   "source": [
    "config = ct.get_config_parser()"
   ]
  },
  {
   "cell_type": "markdown",
   "metadata": {},
   "source": [
    "This parser already contains some default values and the standard sections:"
   ]
  },
  {
   "cell_type": "code",
   "execution_count": null,
   "metadata": {
    "collapsed": false
   },
   "outputs": [],
   "source": [
    "config.sections()"
   ]
  },
  {
   "cell_type": "markdown",
   "metadata": {},
   "source": [
    "We will go through the different sections and show which values need to be set."
   ]
  },
  {
   "cell_type": "markdown",
   "metadata": {},
   "source": [
    "# Sections"
   ]
  },
  {
   "cell_type": "markdown",
   "metadata": {},
   "source": [
    "## User "
   ]
  },
  {
   "cell_type": "markdown",
   "metadata": {},
   "source": [
    "Set your e-mail address here if you like to receive status e-mail."
   ]
  },
  {
   "cell_type": "code",
   "execution_count": null,
   "metadata": {
    "collapsed": true
   },
   "outputs": [],
   "source": [
    "config.set('User', 'email', 'your_address@your_provider.com')"
   ]
  },
  {
   "cell_type": "markdown",
   "metadata": {},
   "source": [
    "## Storage"
   ]
  },
  {
   "cell_type": "markdown",
   "metadata": {},
   "source": [
    "Set up a base folder into which all the simulation data should be stored. The `SimulationSet` class of jcmpython offers a convenient way to organize your simulations inside this folder. You can also set the special value 'CWD', which will cause that current working directory will be used instead."
   ]
  },
  {
   "cell_type": "code",
   "execution_count": null,
   "metadata": {
    "collapsed": true
   },
   "outputs": [],
   "source": [
    "config.set('Storage', 'base', '/path/to/your/global/storage/folder')"
   ]
  },
  {
   "cell_type": "markdown",
   "metadata": {},
   "source": [
    "## Data"
   ]
  },
  {
   "cell_type": "markdown",
   "metadata": {},
   "source": [
    "To keep your projects in one place, you can set a *global projects folder*. If you initialize a `JCMProject` unsing the `JCMProject`-class of jcmpython, you can then give the path to your project relative to this directory. jcmpython will leave the contents if these folders untouched and copy the contents to a working directory. If you don't like to use a global folder, you can also pass absolute paths to `JCMProject`."
   ]
  },
  {
   "cell_type": "code",
   "execution_count": null,
   "metadata": {
    "collapsed": true
   },
   "outputs": [],
   "source": [
    "config.set('Data', 'projects', 'project/collection/folder')"
   ]
  },
  {
   "cell_type": "markdown",
   "metadata": {},
   "source": [
    "**Note:** Be sure that this path is set to the `project`-folder shipped with jcmpython to successfully run the **Using jcmpython - the mie2D-project** notebook."
   ]
  },
  {
   "cell_type": "markdown",
   "metadata": {},
   "source": [
    "If you are using the materials-extension of jcmpython, a RefractiveIndex database is needed and the path is configured here. Please contact one of the maintainers of jcmpython for info on such a database."
   ]
  },
  {
   "cell_type": "code",
   "execution_count": null,
   "metadata": {
    "collapsed": true
   },
   "outputs": [],
   "source": [
    "config.set('Data', 'refractiveIndexDatabase', '/path/to/your/RefractiveIndex/database')"
   ]
  },
  {
   "cell_type": "markdown",
   "metadata": {},
   "source": [
    "## JCMsuite"
   ]
  },
  {
   "cell_type": "markdown",
   "metadata": {},
   "source": [
    "It is assumed that your installation(s) of JCMsuite are in a fixed directory, which is configured using the `root` key. That way, you can change the version of JCMsuite to use easily by only changing the directory name with the key `dir`. Some versions of JCMsuite provide different kernels, which can be set using the kay `kernel`."
   ]
  },
  {
   "cell_type": "code",
   "execution_count": null,
   "metadata": {
    "collapsed": true
   },
   "outputs": [],
   "source": [
    "config.set('JCMsuite', 'root', '/hmi/kme/programs')\n",
    "config.set('JCMsuite', 'dir', 'JCMsuite_3_0_9')\n",
    "config.set('JCMsuite', 'kernel', 3)"
   ]
  },
  {
   "cell_type": "markdown",
   "metadata": {},
   "source": [
    "## Logging"
   ]
  },
  {
   "cell_type": "markdown",
   "metadata": {},
   "source": [
    "For the logging, you can specify the logging level ('DEBUG', 'INFO', 'WARNING', 'ERROR', 'CRITICAL', or 'NOTSET'), whether or not to write a log-file and if status mails should be send by the `run_simusets_in_save_mode` utility function. For the latter, you further need to configure the mail server used by `smtplib.SMTP` ."
   ]
  },
  {
   "cell_type": "code",
   "execution_count": null,
   "metadata": {
    "collapsed": true
   },
   "outputs": [],
   "source": [
    "config.set('Logging', 'level', 'INFO')\n",
    "config.set('Logging', 'write_logfile', True)\n",
    "config.set('Logging', 'send_mail', True)\n",
    "config.set('Logging', 'mail_server', 'localhost')"
   ]
  },
  {
   "cell_type": "markdown",
   "metadata": {},
   "source": [
    "# Adding servers"
   ]
  },
  {
   "cell_type": "markdown",
   "metadata": {},
   "source": [
    "Finally, you can add one or more servers which can be used by the JCMdaemon. Have a look at the doc string to see the possible configurations:"
   ]
  },
  {
   "cell_type": "code",
   "execution_count": null,
   "metadata": {
    "collapsed": false
   },
   "outputs": [],
   "source": [
    "ct.add_server?"
   ]
  },
  {
   "cell_type": "markdown",
   "metadata": {},
   "source": [
    "Minimally, the localhost needs to be added, because otherwise there will be no resources for the JCMdaemon. This is done by using 'localhost' as the `hostname` and your local username as the `login`:"
   ]
  },
  {
   "cell_type": "code",
   "execution_count": null,
   "metadata": {
    "collapsed": false
   },
   "outputs": [],
   "source": [
    "ct.add_server(config, 'localhost', 'YOUR_USER_NAME_ON_THIS_COMPUTER')"
   ]
  },
  {
   "cell_type": "markdown",
   "metadata": {},
   "source": [
    "But you may have additional server power. Let's assume you have installed JCMsuite on a server called *myserver* which you can reach via ssh by typing `ssh YOUR_LOGIN@myserver.something.com`. The directory into which your JCMsuite version(s) is(are) installed may be `/path/on/server/to/your/jcm_installations`. The JCMsuite directory name needs to be the same as configured in the section `JCMsuite` under key `dir`! You may further want to set a `nickname` to manage all your servers later more easily, e.g. `myserver`. Finaly, you want to set 6 workers and 6 threads per worker as a default. Then just write: "
   ]
  },
  {
   "cell_type": "code",
   "execution_count": null,
   "metadata": {
    "collapsed": true
   },
   "outputs": [],
   "source": [
    "ct.add_server(config, 'myserver.something.com', 'YOUR_LOGIN', \n",
    "              JCM_root='/path/on/server/to/your/jcm_installations',\n",
    "              multiplicity_default=6,\n",
    "              n_threads_default=6,\n",
    "              nickname='myserver')"
   ]
  },
  {
   "cell_type": "markdown",
   "metadata": {
    "collapsed": true
   },
   "source": [
    "**Note:** You will need a password free login to these servers."
   ]
  },
  {
   "cell_type": "markdown",
   "metadata": {},
   "source": [
    "# Saving the configuration file"
   ]
  },
  {
   "cell_type": "markdown",
   "metadata": {},
   "source": [
    "So you are done and all that is left is saving the configuration to a config file:"
   ]
  },
  {
   "cell_type": "code",
   "execution_count": null,
   "metadata": {
    "collapsed": true
   },
   "outputs": [],
   "source": [
    "ct.write_config_file(config, 'config.cfg')"
   ]
  },
  {
   "cell_type": "markdown",
   "metadata": {},
   "source": [
    "# Using the configuration file with jcmpython"
   ]
  },
  {
   "cell_type": "markdown",
   "metadata": {},
   "source": [
    "Using a specific configuration file is easily done by setting the environment variable 'JCMPYTHON_CONFIG_FILE'. If this is not set, jcmpython will look for a `config.cfg` in the current working directory. Setting the environment variable can be done using the os module:"
   ]
  },
  {
   "cell_type": "code",
   "execution_count": null,
   "metadata": {
    "collapsed": true
   },
   "outputs": [],
   "source": [
    "import os\n",
    "os.environ['JCMPYTHON_CONFIG_FILE'] = '/path/to/your/config.cfg'"
   ]
  },
  {
   "cell_type": "markdown",
   "metadata": {},
   "source": [
    "Now **run the test_base.py** in the *tests* folder. This will also check your configuration file. After that, look into the **Using jcmpython - the mie2D-project** notebook in the `examples` directory to get started with jcmpython."
   ]
  }
 ],
 "metadata": {
  "kernelspec": {
   "display_name": "Python 2",
   "language": "python",
   "name": "python2"
  },
  "language_info": {
   "codemirror_mode": {
    "name": "ipython",
    "version": 2
   },
   "file_extension": ".py",
   "mimetype": "text/x-python",
   "name": "python",
   "nbconvert_exporter": "python",
   "pygments_lexer": "ipython2",
   "version": "2.7.6"
  }
 },
 "nbformat": 4,
 "nbformat_minor": 0
}
